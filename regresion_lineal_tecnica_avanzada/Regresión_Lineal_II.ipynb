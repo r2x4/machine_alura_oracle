{
  "nbformat": 4,
  "nbformat_minor": 0,
  "metadata": {
    "kernelspec": {
      "display_name": "Python 3",
      "language": "python",
      "name": "python3"
    },
    "language_info": {
      "codemirror_mode": {
        "name": "ipython",
        "version": 3
      },
      "file_extension": ".py",
      "mimetype": "text/x-python",
      "name": "python",
      "nbconvert_exporter": "python",
      "pygments_lexer": "ipython3",
      "version": "3.7.0"
    },
    "colab": {
      "name": "Regresión_Lineal_II.ipynb",
      "provenance": []
    }
  },
  "cells": [
    {
      "cell_type": "markdown",
      "metadata": {
        "id": "DHLRlGM8FlHe"
      },
      "source": [
        "<h1 style='color: green; font-size: 36px; font-weight: bold;'>Data Science - Regresión Lineal II</h1>"
      ]
    },
    {
      "cell_type": "markdown",
      "metadata": {
        "id": "_ScLG3rnFlH1"
      },
      "source": [
        "# <font color='red' style='font-size: 30px;'>1.2 Conociendo el Dataset</font>\n",
        "<hr style='border: 2px solid red;'>"
      ]
    },
    {
      "cell_type": "markdown",
      "metadata": {
        "id": "pkxSOWr7FlH3"
      },
      "source": [
        "## Importando la biblioteca pandas\n",
        "\n",
        "https://pandas.pydata.org/"
      ]
    },
    {
      "cell_type": "code",
      "metadata": {
        "id": "9AzjcI6rFlH4"
      },
      "source": [
        "import pandas as pd"
      ],
      "execution_count": 13,
      "outputs": []
    },
    {
      "cell_type": "markdown",
      "metadata": {
        "id": "rCJTk0RrFlH6"
      },
      "source": [
        "## El Dataset y el Proyecto\n",
        "<hr>\n",
        "\n",
        "### Descripción:\n",
        "<p style='font-size: 18px; line-height: 2; margin: 10px 50px; text-align: justify; text-indent: 35px;'>El mercado inmobiliario ha sido objeto de varios estudios e investigaciones en los últimos tiempos. La crisis financiera que afecta a la economía ha afectado significativamente las inversiones y ganancias de este sector. Este escenario fomenta un mayor interés en los estudios de previsión de la demanda basados ​​en las características de este mercado, los inmuebles y el entorno de estos inmuebles.</p>\n",
        "\n",
        "<p style='font-size: 18px; line-height: 2; margin: 10px 50px; text-align: justify; text-indent: 35px;'>En este contexto, el principal objetivo de nuestro proyecto es desarrollar un sistema de valuación inmobiliaria utilizando la metodología de regresión lineal, que es una de las técnicas de Machine Learning.</p>\n",
        "\n",
        "<p style='font-size: 18px; line-height: 2; margin: 10px 50px; text-align: justify; text-indent: 35px;'>Nuestro *dataset* es una muestra aleatoria de 5000 inmuebles disponibles para la venta en el municipio de Rio de Janeiro.</p>\n",
        "\n",
        "### Datos:\n",
        "<ul style='font-size: 18px; line-height: 2; text-align: justify;'>\n",
        "    <li><b>Valor</b> - Valor (US$) de oferta del inmueble</li>\n",
        "    <li><b>Área</b> - Área del inmueble en m²</li>\n",
        "    <li><b>Dist_Playa</b> - Distancia del inmueble a la playa (km) (en línea recta)</li>\n",
        "    <li><b>Dist_Farmacia</b> - Distancia del inmueble a la farmacia más cercana (km) (en línea recta)</li>\n",
        "</ul>"
      ]
    },
    {
      "cell_type": "markdown",
      "metadata": {
        "id": "-RNeJdr8FlH8"
      },
      "source": [
        "## Lectura de los datos"
      ]
    },
    {
      "cell_type": "code",
      "metadata": {
        "id": "Ag0g5FG3FlH9"
      },
      "source": [
        "datos = pd.read_csv('/content/dataset.csv', sep=';')"
      ],
      "execution_count": 14,
      "outputs": []
    },
    {
      "cell_type": "markdown",
      "metadata": {
        "id": "LttePlt9FlH-"
      },
      "source": [
        "## Ver los datos"
      ]
    },
    {
      "cell_type": "code",
      "metadata": {
        "id": "H3m_FznnFlH_",
        "colab": {
          "base_uri": "https://localhost:8080/",
          "height": 363
        },
        "outputId": "7cff51c0-6749-42dd-88b0-a944ccd3e679"
      },
      "source": [
        "datos.sample(10)"
      ],
      "execution_count": 15,
      "outputs": [
        {
          "output_type": "execute_result",
          "data": {
            "text/plain": [
              "       Valor  Area  Dist_Playa  Dist_Farmacia\n",
              "2534  175601    78    0.000000       0.234642\n",
              "2319  388170   200    0.079321       0.457217\n",
              "2517  146950    60    0.830589       0.767329\n",
              "482    51756    70    8.026277       0.755762\n",
              "2991  146950    70    0.483908       0.876031\n",
              "1066  175601    81    0.059651       0.231370\n",
              "2648  462107   136    0.117657       0.914542\n",
              "150   118299    56    0.914668       0.727297\n",
              "4120  240296   108    0.065160       0.827456\n",
              "4486  739372   177    2.196338       0.790943"
            ],
            "text/html": [
              "\n",
              "  <div id=\"df-8a9bb2d3-92ac-4bb6-a1cf-e1832a4fbf25\" class=\"colab-df-container\">\n",
              "    <div>\n",
              "<style scoped>\n",
              "    .dataframe tbody tr th:only-of-type {\n",
              "        vertical-align: middle;\n",
              "    }\n",
              "\n",
              "    .dataframe tbody tr th {\n",
              "        vertical-align: top;\n",
              "    }\n",
              "\n",
              "    .dataframe thead th {\n",
              "        text-align: right;\n",
              "    }\n",
              "</style>\n",
              "<table border=\"1\" class=\"dataframe\">\n",
              "  <thead>\n",
              "    <tr style=\"text-align: right;\">\n",
              "      <th></th>\n",
              "      <th>Valor</th>\n",
              "      <th>Area</th>\n",
              "      <th>Dist_Playa</th>\n",
              "      <th>Dist_Farmacia</th>\n",
              "    </tr>\n",
              "  </thead>\n",
              "  <tbody>\n",
              "    <tr>\n",
              "      <th>2534</th>\n",
              "      <td>175601</td>\n",
              "      <td>78</td>\n",
              "      <td>0.000000</td>\n",
              "      <td>0.234642</td>\n",
              "    </tr>\n",
              "    <tr>\n",
              "      <th>2319</th>\n",
              "      <td>388170</td>\n",
              "      <td>200</td>\n",
              "      <td>0.079321</td>\n",
              "      <td>0.457217</td>\n",
              "    </tr>\n",
              "    <tr>\n",
              "      <th>2517</th>\n",
              "      <td>146950</td>\n",
              "      <td>60</td>\n",
              "      <td>0.830589</td>\n",
              "      <td>0.767329</td>\n",
              "    </tr>\n",
              "    <tr>\n",
              "      <th>482</th>\n",
              "      <td>51756</td>\n",
              "      <td>70</td>\n",
              "      <td>8.026277</td>\n",
              "      <td>0.755762</td>\n",
              "    </tr>\n",
              "    <tr>\n",
              "      <th>2991</th>\n",
              "      <td>146950</td>\n",
              "      <td>70</td>\n",
              "      <td>0.483908</td>\n",
              "      <td>0.876031</td>\n",
              "    </tr>\n",
              "    <tr>\n",
              "      <th>1066</th>\n",
              "      <td>175601</td>\n",
              "      <td>81</td>\n",
              "      <td>0.059651</td>\n",
              "      <td>0.231370</td>\n",
              "    </tr>\n",
              "    <tr>\n",
              "      <th>2648</th>\n",
              "      <td>462107</td>\n",
              "      <td>136</td>\n",
              "      <td>0.117657</td>\n",
              "      <td>0.914542</td>\n",
              "    </tr>\n",
              "    <tr>\n",
              "      <th>150</th>\n",
              "      <td>118299</td>\n",
              "      <td>56</td>\n",
              "      <td>0.914668</td>\n",
              "      <td>0.727297</td>\n",
              "    </tr>\n",
              "    <tr>\n",
              "      <th>4120</th>\n",
              "      <td>240296</td>\n",
              "      <td>108</td>\n",
              "      <td>0.065160</td>\n",
              "      <td>0.827456</td>\n",
              "    </tr>\n",
              "    <tr>\n",
              "      <th>4486</th>\n",
              "      <td>739372</td>\n",
              "      <td>177</td>\n",
              "      <td>2.196338</td>\n",
              "      <td>0.790943</td>\n",
              "    </tr>\n",
              "  </tbody>\n",
              "</table>\n",
              "</div>\n",
              "    <div class=\"colab-df-buttons\">\n",
              "\n",
              "  <div class=\"colab-df-container\">\n",
              "    <button class=\"colab-df-convert\" onclick=\"convertToInteractive('df-8a9bb2d3-92ac-4bb6-a1cf-e1832a4fbf25')\"\n",
              "            title=\"Convert this dataframe to an interactive table.\"\n",
              "            style=\"display:none;\">\n",
              "\n",
              "  <svg xmlns=\"http://www.w3.org/2000/svg\" height=\"24px\" viewBox=\"0 -960 960 960\">\n",
              "    <path d=\"M120-120v-720h720v720H120Zm60-500h600v-160H180v160Zm220 220h160v-160H400v160Zm0 220h160v-160H400v160ZM180-400h160v-160H180v160Zm440 0h160v-160H620v160ZM180-180h160v-160H180v160Zm440 0h160v-160H620v160Z\"/>\n",
              "  </svg>\n",
              "    </button>\n",
              "\n",
              "  <style>\n",
              "    .colab-df-container {\n",
              "      display:flex;\n",
              "      gap: 12px;\n",
              "    }\n",
              "\n",
              "    .colab-df-convert {\n",
              "      background-color: #E8F0FE;\n",
              "      border: none;\n",
              "      border-radius: 50%;\n",
              "      cursor: pointer;\n",
              "      display: none;\n",
              "      fill: #1967D2;\n",
              "      height: 32px;\n",
              "      padding: 0 0 0 0;\n",
              "      width: 32px;\n",
              "    }\n",
              "\n",
              "    .colab-df-convert:hover {\n",
              "      background-color: #E2EBFA;\n",
              "      box-shadow: 0px 1px 2px rgba(60, 64, 67, 0.3), 0px 1px 3px 1px rgba(60, 64, 67, 0.15);\n",
              "      fill: #174EA6;\n",
              "    }\n",
              "\n",
              "    .colab-df-buttons div {\n",
              "      margin-bottom: 4px;\n",
              "    }\n",
              "\n",
              "    [theme=dark] .colab-df-convert {\n",
              "      background-color: #3B4455;\n",
              "      fill: #D2E3FC;\n",
              "    }\n",
              "\n",
              "    [theme=dark] .colab-df-convert:hover {\n",
              "      background-color: #434B5C;\n",
              "      box-shadow: 0px 1px 3px 1px rgba(0, 0, 0, 0.15);\n",
              "      filter: drop-shadow(0px 1px 2px rgba(0, 0, 0, 0.3));\n",
              "      fill: #FFFFFF;\n",
              "    }\n",
              "  </style>\n",
              "\n",
              "    <script>\n",
              "      const buttonEl =\n",
              "        document.querySelector('#df-8a9bb2d3-92ac-4bb6-a1cf-e1832a4fbf25 button.colab-df-convert');\n",
              "      buttonEl.style.display =\n",
              "        google.colab.kernel.accessAllowed ? 'block' : 'none';\n",
              "\n",
              "      async function convertToInteractive(key) {\n",
              "        const element = document.querySelector('#df-8a9bb2d3-92ac-4bb6-a1cf-e1832a4fbf25');\n",
              "        const dataTable =\n",
              "          await google.colab.kernel.invokeFunction('convertToInteractive',\n",
              "                                                    [key], {});\n",
              "        if (!dataTable) return;\n",
              "\n",
              "        const docLinkHtml = 'Like what you see? Visit the ' +\n",
              "          '<a target=\"_blank\" href=https://colab.research.google.com/notebooks/data_table.ipynb>data table notebook</a>'\n",
              "          + ' to learn more about interactive tables.';\n",
              "        element.innerHTML = '';\n",
              "        dataTable['output_type'] = 'display_data';\n",
              "        await google.colab.output.renderOutput(dataTable, element);\n",
              "        const docLink = document.createElement('div');\n",
              "        docLink.innerHTML = docLinkHtml;\n",
              "        element.appendChild(docLink);\n",
              "      }\n",
              "    </script>\n",
              "  </div>\n",
              "\n",
              "\n",
              "    <div id=\"df-8c009580-e877-4077-a1f2-80b44d1c1256\">\n",
              "      <button class=\"colab-df-quickchart\" onclick=\"quickchart('df-8c009580-e877-4077-a1f2-80b44d1c1256')\"\n",
              "                title=\"Suggest charts\"\n",
              "                style=\"display:none;\">\n",
              "\n",
              "<svg xmlns=\"http://www.w3.org/2000/svg\" height=\"24px\"viewBox=\"0 0 24 24\"\n",
              "     width=\"24px\">\n",
              "    <g>\n",
              "        <path d=\"M19 3H5c-1.1 0-2 .9-2 2v14c0 1.1.9 2 2 2h14c1.1 0 2-.9 2-2V5c0-1.1-.9-2-2-2zM9 17H7v-7h2v7zm4 0h-2V7h2v10zm4 0h-2v-4h2v4z\"/>\n",
              "    </g>\n",
              "</svg>\n",
              "      </button>\n",
              "\n",
              "<style>\n",
              "  .colab-df-quickchart {\n",
              "      --bg-color: #E8F0FE;\n",
              "      --fill-color: #1967D2;\n",
              "      --hover-bg-color: #E2EBFA;\n",
              "      --hover-fill-color: #174EA6;\n",
              "      --disabled-fill-color: #AAA;\n",
              "      --disabled-bg-color: #DDD;\n",
              "  }\n",
              "\n",
              "  [theme=dark] .colab-df-quickchart {\n",
              "      --bg-color: #3B4455;\n",
              "      --fill-color: #D2E3FC;\n",
              "      --hover-bg-color: #434B5C;\n",
              "      --hover-fill-color: #FFFFFF;\n",
              "      --disabled-bg-color: #3B4455;\n",
              "      --disabled-fill-color: #666;\n",
              "  }\n",
              "\n",
              "  .colab-df-quickchart {\n",
              "    background-color: var(--bg-color);\n",
              "    border: none;\n",
              "    border-radius: 50%;\n",
              "    cursor: pointer;\n",
              "    display: none;\n",
              "    fill: var(--fill-color);\n",
              "    height: 32px;\n",
              "    padding: 0;\n",
              "    width: 32px;\n",
              "  }\n",
              "\n",
              "  .colab-df-quickchart:hover {\n",
              "    background-color: var(--hover-bg-color);\n",
              "    box-shadow: 0 1px 2px rgba(60, 64, 67, 0.3), 0 1px 3px 1px rgba(60, 64, 67, 0.15);\n",
              "    fill: var(--button-hover-fill-color);\n",
              "  }\n",
              "\n",
              "  .colab-df-quickchart-complete:disabled,\n",
              "  .colab-df-quickchart-complete:disabled:hover {\n",
              "    background-color: var(--disabled-bg-color);\n",
              "    fill: var(--disabled-fill-color);\n",
              "    box-shadow: none;\n",
              "  }\n",
              "\n",
              "  .colab-df-spinner {\n",
              "    border: 2px solid var(--fill-color);\n",
              "    border-color: transparent;\n",
              "    border-bottom-color: var(--fill-color);\n",
              "    animation:\n",
              "      spin 1s steps(1) infinite;\n",
              "  }\n",
              "\n",
              "  @keyframes spin {\n",
              "    0% {\n",
              "      border-color: transparent;\n",
              "      border-bottom-color: var(--fill-color);\n",
              "      border-left-color: var(--fill-color);\n",
              "    }\n",
              "    20% {\n",
              "      border-color: transparent;\n",
              "      border-left-color: var(--fill-color);\n",
              "      border-top-color: var(--fill-color);\n",
              "    }\n",
              "    30% {\n",
              "      border-color: transparent;\n",
              "      border-left-color: var(--fill-color);\n",
              "      border-top-color: var(--fill-color);\n",
              "      border-right-color: var(--fill-color);\n",
              "    }\n",
              "    40% {\n",
              "      border-color: transparent;\n",
              "      border-right-color: var(--fill-color);\n",
              "      border-top-color: var(--fill-color);\n",
              "    }\n",
              "    60% {\n",
              "      border-color: transparent;\n",
              "      border-right-color: var(--fill-color);\n",
              "    }\n",
              "    80% {\n",
              "      border-color: transparent;\n",
              "      border-right-color: var(--fill-color);\n",
              "      border-bottom-color: var(--fill-color);\n",
              "    }\n",
              "    90% {\n",
              "      border-color: transparent;\n",
              "      border-bottom-color: var(--fill-color);\n",
              "    }\n",
              "  }\n",
              "</style>\n",
              "\n",
              "      <script>\n",
              "        async function quickchart(key) {\n",
              "          const quickchartButtonEl =\n",
              "            document.querySelector('#' + key + ' button');\n",
              "          quickchartButtonEl.disabled = true;  // To prevent multiple clicks.\n",
              "          quickchartButtonEl.classList.add('colab-df-spinner');\n",
              "          try {\n",
              "            const charts = await google.colab.kernel.invokeFunction(\n",
              "                'suggestCharts', [key], {});\n",
              "          } catch (error) {\n",
              "            console.error('Error during call to suggestCharts:', error);\n",
              "          }\n",
              "          quickchartButtonEl.classList.remove('colab-df-spinner');\n",
              "          quickchartButtonEl.classList.add('colab-df-quickchart-complete');\n",
              "        }\n",
              "        (() => {\n",
              "          let quickchartButtonEl =\n",
              "            document.querySelector('#df-8c009580-e877-4077-a1f2-80b44d1c1256 button');\n",
              "          quickchartButtonEl.style.display =\n",
              "            google.colab.kernel.accessAllowed ? 'block' : 'none';\n",
              "        })();\n",
              "      </script>\n",
              "    </div>\n",
              "\n",
              "    </div>\n",
              "  </div>\n"
            ],
            "application/vnd.google.colaboratory.intrinsic+json": {
              "type": "dataframe",
              "summary": "{\n  \"name\": \"datos\",\n  \"rows\": 10,\n  \"fields\": [\n    {\n      \"column\": \"Valor\",\n      \"properties\": {\n        \"dtype\": \"number\",\n        \"std\": 208302,\n        \"min\": 51756,\n        \"max\": 739372,\n        \"num_unique_values\": 8,\n        \"samples\": [\n          388170,\n          118299,\n          175601\n        ],\n        \"semantic_type\": \"\",\n        \"description\": \"\"\n      }\n    },\n    {\n      \"column\": \"Area\",\n      \"properties\": {\n        \"dtype\": \"number\",\n        \"std\": 50,\n        \"min\": 56,\n        \"max\": 200,\n        \"num_unique_values\": 9,\n        \"samples\": [\n          108,\n          200,\n          136\n        ],\n        \"semantic_type\": \"\",\n        \"description\": \"\"\n      }\n    },\n    {\n      \"column\": \"Dist_Playa\",\n      \"properties\": {\n        \"dtype\": \"number\",\n        \"std\": 2.46570287560987,\n        \"min\": 0.0,\n        \"max\": 8.026276792,\n        \"num_unique_values\": 10,\n        \"samples\": [\n          0.06515965,\n          0.079320789,\n          0.059650737\n        ],\n        \"semantic_type\": \"\",\n        \"description\": \"\"\n      }\n    },\n    {\n      \"column\": \"Dist_Farmacia\",\n      \"properties\": {\n        \"dtype\": \"number\",\n        \"std\": 0.25551931887495755,\n        \"min\": 0.23137,\n        \"max\": 0.914542,\n        \"num_unique_values\": 10,\n        \"samples\": [\n          0.827456,\n          0.457217,\n          0.23137\n        ],\n        \"semantic_type\": \"\",\n        \"description\": \"\"\n      }\n    }\n  ]\n}"
            }
          },
          "metadata": {},
          "execution_count": 15
        }
      ]
    },
    {
      "cell_type": "markdown",
      "metadata": {
        "id": "ZklX00K7FlID"
      },
      "source": [
        "## Verificando el tamaño del dataset"
      ]
    },
    {
      "cell_type": "code",
      "metadata": {
        "id": "qDklRD-pFlIE",
        "colab": {
          "base_uri": "https://localhost:8080/"
        },
        "outputId": "545e7433-8c4d-46db-ac22-580328b7bb32"
      },
      "source": [
        "# tamano del Dataset\n",
        "datos.shape"
      ],
      "execution_count": 16,
      "outputs": [
        {
          "output_type": "execute_result",
          "data": {
            "text/plain": [
              "(5000, 4)"
            ]
          },
          "metadata": {},
          "execution_count": 16
        }
      ]
    },
    {
      "cell_type": "code",
      "source": [
        "# informacion\n",
        "\n",
        "datos.info()"
      ],
      "metadata": {
        "id": "fsmEV9bc3ZXL",
        "outputId": "0a07efe1-bfac-4c6c-c0a2-9d4a2131dc81",
        "colab": {
          "base_uri": "https://localhost:8080/"
        }
      },
      "execution_count": 19,
      "outputs": [
        {
          "output_type": "stream",
          "name": "stdout",
          "text": [
            "<class 'pandas.core.frame.DataFrame'>\n",
            "RangeIndex: 5000 entries, 0 to 4999\n",
            "Data columns (total 4 columns):\n",
            " #   Column         Non-Null Count  Dtype  \n",
            "---  ------         --------------  -----  \n",
            " 0   Valor          5000 non-null   int64  \n",
            " 1   Area           5000 non-null   int64  \n",
            " 2   Dist_Playa     5000 non-null   float64\n",
            " 3   Dist_Farmacia  5000 non-null   float64\n",
            "dtypes: float64(2), int64(2)\n",
            "memory usage: 156.4 KB\n"
          ]
        }
      ]
    },
    {
      "cell_type": "markdown",
      "metadata": {
        "id": "LNBA0xwcFlIG"
      },
      "source": [
        "# <font color='red' style='font-size: 30px;'>1.3 Analisis preliminar</font>\n",
        "<hr style='border: 2px solid red;'>"
      ]
    },
    {
      "cell_type": "markdown",
      "metadata": {
        "id": "O1OdS8lNFlIH"
      },
      "source": [
        "## Estadísticos descriptivos\n"
      ]
    },
    {
      "cell_type": "code",
      "metadata": {
        "id": "WQTSUTZCFlII"
      },
      "source": [],
      "execution_count": 16,
      "outputs": []
    },
    {
      "cell_type": "markdown",
      "metadata": {
        "id": "SPyCvujFFlIJ"
      },
      "source": [
        "## Matriz de correlación\n",
        "\n",
        "<p style='font-size: 18px; line-height: 2; margin: 10px 50px; text-align: justify;'>El <b> coeficiente de correlación </b> es una medida de asociación lineal entre dos variables y su valor está entre <b> -1 </b> y <b> +1 </b>, dónde <b> - 1 </b> indica asociación negativa perfecta y <b> +1 </b> indica asociación positiva perfecta.</p>"
      ]
    },
    {
      "cell_type": "code",
      "metadata": {
        "id": "tark05uRFlIK"
      },
      "source": [],
      "execution_count": 16,
      "outputs": []
    },
    {
      "cell_type": "markdown",
      "metadata": {
        "id": "xphhOWDOFlIM"
      },
      "source": [
        "# <font color='red' style='font-size: 30px;'>2.1 Comportamiento de la variable dependiente (Y)</font>\n",
        "<hr style='border: 2px solid red;'>"
      ]
    },
    {
      "cell_type": "markdown",
      "metadata": {
        "id": "YPafmc2jFlIN"
      },
      "source": [
        "## Importando la biblioteca seaborn\n",
        "https://seaborn.pydata.org/\n",
        "<p style='font-size: 18px; line-height: 2; margin: 10px 50px; text-align: justify;'>Seaborn es una biblioteca de visualización de datos de Python basada en matplotlib. Proporciona una interfaz de alto nivel para dibujar gráficos estadísticos.</p>"
      ]
    },
    {
      "cell_type": "code",
      "metadata": {
        "id": "bYZfJuSQFlIO"
      },
      "source": [],
      "execution_count": 16,
      "outputs": []
    },
    {
      "cell_type": "markdown",
      "metadata": {
        "id": "WVl_uUtSFlIP"
      },
      "source": [
        "## Configuración del formato de los gráficos"
      ]
    },
    {
      "cell_type": "code",
      "metadata": {
        "id": "bby91uu2FlIQ"
      },
      "source": [
        "# palette -> Accent, Accent_r, Blues, Blues_r, BrBG, BrBG_r, BuGn, BuGn_r, BuPu, BuPu_r, CMRmap, CMRmap_r, Dark2, Dark2_r, GnBu, GnBu_r, Greens, Greens_r, Greys, Greys_r, OrRd, OrRd_r, Oranges, Oranges_r, PRGn, PRGn_r, Paired, Paired_r, Pastel1, Pastel1_r, Pastel2, Pastel2_r, PiYG, PiYG_r, PuBu, PuBuGn, PuBuGn_r, PuBu_r, PuOr, PuOr_r, PuRd, PuRd_r, Purples, Purples_r, RdBu, RdBu_r, RdGy, RdGy_r, RdPu, RdPu_r, RdYlBu, RdYlBu_r, RdYlGn, RdYlGn_r, Reds, Reds_r, Set1, Set1_r, Set2, Set2_r, Set3, Set3_r, Spectral, Spectral_r, Wistia, Wistia_r, YlGn, YlGnBu, YlGnBu_r, YlGn_r, YlOrBr, YlOrBr_r, YlOrRd, YlOrRd_r, afmhot, afmhot_r, autumn, autumn_r, binary, binary_r, bone, bone_r, brg, brg_r, bwr, bwr_r, cividis, cividis_r, cool, cool_r, coolwarm, coolwarm_r, copper, copper_r, cubehelix, cubehelix_r, flag, flag_r, gist_earth, gist_earth_r, gist_gray, gist_gray_r, gist_heat, gist_heat_r, gist_ncar, gist_ncar_r, gist_rainbow, gist_rainbow_r, gist_stern, gist_stern_r, gist_yarg, gist_yarg_r, gnuplot, gnuplot2, gnuplot2_r, gnuplot_r, gray, gray_r, hot, hot_r, hsv, hsv_r, icefire, icefire_r, inferno, inferno_r, jet, jet_r, magma, magma_r, mako, mako_r, nipy_spectral, nipy_spectral_r, ocean, ocean_r, pink, pink_r, plasma, plasma_r, prism, prism_r, rainbow, rainbow_r, rocket, rocket_r, seismic, seismic_r, spring, spring_r, summer, summer_r, tab10, tab10_r, tab20, tab20_r, tab20b, tab20b_r, tab20c, tab20c_r, terrain, terrain_r, viridis, viridis_r, vlag, vlag_r, winter, winter_r\n",
        "\n",
        "# style -> white, dark, whitegrid, darkgrid, ticks\n"
      ],
      "execution_count": 17,
      "outputs": []
    },
    {
      "cell_type": "markdown",
      "metadata": {
        "id": "wnh3z0dqFlIS"
      },
      "source": [
        "## Box plot de la variable *dependiente* (y)"
      ]
    },
    {
      "cell_type": "markdown",
      "metadata": {
        "id": "p0mFUrzAFlIS"
      },
      "source": [
        "<img width='700px' src='https://caelum-online-public.s3.amazonaws.com/ESP-1774-regresion-lineal/Box-Plot.png'>"
      ]
    },
    {
      "cell_type": "markdown",
      "metadata": {
        "id": "dPiy5bp_FlIT"
      },
      "source": [
        "https://seaborn.pydata.org/generated/seaborn.boxplot.html?highlight=boxplot#seaborn.boxplot"
      ]
    },
    {
      "cell_type": "code",
      "metadata": {
        "id": "pi6rui42FlIU",
        "colab": {
          "base_uri": "https://localhost:8080/",
          "height": 193
        },
        "outputId": "d921d0ec-c698-489c-e33f-307cc4915c44"
      },
      "source": [
        "\n",
        "ax.figure.set_size_inches(20, 5)\n",
        "ax.set_title('Precio de los Inmuebles', fontsize=20)\n",
        "ax.set_xlabel('Dolares', fontsize=16)\n",
        "ax"
      ],
      "execution_count": 18,
      "outputs": [
        {
          "output_type": "error",
          "ename": "NameError",
          "evalue": "name 'ax' is not defined",
          "traceback": [
            "\u001b[0;31m---------------------------------------------------------------------------\u001b[0m",
            "\u001b[0;31mNameError\u001b[0m                                 Traceback (most recent call last)",
            "\u001b[0;32m/tmp/ipython-input-18-281757044.py\u001b[0m in \u001b[0;36m<cell line: 0>\u001b[0;34m()\u001b[0m\n\u001b[0;32m----> 1\u001b[0;31m \u001b[0max\u001b[0m\u001b[0;34m.\u001b[0m\u001b[0mfigure\u001b[0m\u001b[0;34m.\u001b[0m\u001b[0mset_size_inches\u001b[0m\u001b[0;34m(\u001b[0m\u001b[0;36m20\u001b[0m\u001b[0;34m,\u001b[0m \u001b[0;36m5\u001b[0m\u001b[0;34m)\u001b[0m\u001b[0;34m\u001b[0m\u001b[0;34m\u001b[0m\u001b[0m\n\u001b[0m\u001b[1;32m      2\u001b[0m \u001b[0max\u001b[0m\u001b[0;34m.\u001b[0m\u001b[0mset_title\u001b[0m\u001b[0;34m(\u001b[0m\u001b[0;34m'Precio de los Inmuebles'\u001b[0m\u001b[0;34m,\u001b[0m \u001b[0mfontsize\u001b[0m\u001b[0;34m=\u001b[0m\u001b[0;36m20\u001b[0m\u001b[0;34m)\u001b[0m\u001b[0;34m\u001b[0m\u001b[0;34m\u001b[0m\u001b[0m\n\u001b[1;32m      3\u001b[0m \u001b[0max\u001b[0m\u001b[0;34m.\u001b[0m\u001b[0mset_xlabel\u001b[0m\u001b[0;34m(\u001b[0m\u001b[0;34m'Dolares'\u001b[0m\u001b[0;34m,\u001b[0m \u001b[0mfontsize\u001b[0m\u001b[0;34m=\u001b[0m\u001b[0;36m16\u001b[0m\u001b[0;34m)\u001b[0m\u001b[0;34m\u001b[0m\u001b[0;34m\u001b[0m\u001b[0m\n\u001b[1;32m      4\u001b[0m \u001b[0max\u001b[0m\u001b[0;34m\u001b[0m\u001b[0;34m\u001b[0m\u001b[0m\n",
            "\u001b[0;31mNameError\u001b[0m: name 'ax' is not defined"
          ]
        }
      ]
    },
    {
      "cell_type": "markdown",
      "metadata": {
        "id": "2EZVR8RfFlIV"
      },
      "source": [
        "# <font color='red' style='font-size: 30px;'>2.2 Distribución de frecuencias</font>\n",
        "<hr style='border: 2px solid red;'>"
      ]
    },
    {
      "cell_type": "markdown",
      "metadata": {
        "id": "qmxczNoVFlIV"
      },
      "source": [
        "## Distribución de frecuencias de la variable *dependiente* (y)"
      ]
    },
    {
      "cell_type": "markdown",
      "metadata": {
        "id": "OkP3v3dNFlIV"
      },
      "source": [
        "https://seaborn.pydata.org/generated/seaborn.distplot.html?highlight=distplot#seaborn.distplot"
      ]
    },
    {
      "cell_type": "code",
      "metadata": {
        "id": "dZVlsdpGFlIW"
      },
      "source": [
        "\n",
        "ax.figure.set_size_inches(20, 6)\n",
        "ax.set_title('Distribuición de Frecuencias', fontsize=20)\n",
        "ax.set_xlabel('Precio de los Inmuebles (US$)', fontsize=16)\n",
        "ax"
      ],
      "execution_count": null,
      "outputs": []
    },
    {
      "cell_type": "markdown",
      "metadata": {
        "id": "DMIi5nRmFlIX"
      },
      "source": [
        "<img width='800px' src='https://caelum-online-public.s3.amazonaws.com/ESP-1803-regresion-lineal-tecnicas-avanzadas-modelado/Box-Plot+II.png'>"
      ]
    },
    {
      "cell_type": "markdown",
      "metadata": {
        "id": "M2IMLMODFlIX"
      },
      "source": [
        "# <font color='red' style='font-size: 30px;'>2.3 Dispersión entre las Variables</font>\n",
        "<hr style='border: 2px solid red;'>"
      ]
    },
    {
      "cell_type": "markdown",
      "metadata": {
        "id": "chLIf6CxFlIY"
      },
      "source": [
        "## Gráficos de dispersión entre las variables del dataset"
      ]
    },
    {
      "cell_type": "markdown",
      "metadata": {
        "id": "ZS00xz_0FlIY"
      },
      "source": [
        "## seaborn.pairplot\n",
        "\n",
        "https://seaborn.pydata.org/generated/seaborn.pairplot.html?highlight=pairplot#seaborn.pairplot\n",
        "\n",
        "<p style='font-size: 18px; line-height: 2; margin: 10px 50px; text-align: justify;'>Grafica la relación entre pares de variables en un dataset.</p>"
      ]
    },
    {
      "cell_type": "code",
      "metadata": {
        "id": "YvYbQSomFlIZ"
      },
      "source": [
        "\n",
        "ax.fig.suptitle('Dispersión entre las Variables', fontsize=20, y=1.05)\n",
        "ax"
      ],
      "execution_count": null,
      "outputs": []
    },
    {
      "cell_type": "code",
      "metadata": {
        "id": "QWHOTj98FlIZ"
      },
      "source": [
        "\n",
        "ax.fig.suptitle('Dispersión entre las Variables', fontsize=20, y=1.05)\n",
        "ax"
      ],
      "execution_count": null,
      "outputs": []
    },
    {
      "cell_type": "markdown",
      "metadata": {
        "id": "BWreZOVxFlIa"
      },
      "source": [
        "# <font color='red' style='font-size: 30px;'>3.1 Transformando los Datos</font>\n",
        "<hr style='border: 2px solid red;'>"
      ]
    },
    {
      "cell_type": "markdown",
      "metadata": {
        "id": "fVfTIM3MFlIa"
      },
      "source": [
        "## Distribuición Normal\n",
        "<hr>\n",
        "\n",
        "### ¿Porque?\n",
        "<p style='font-size: 18px; line-height: 2; margin: 10px 50px; text-align: justify;'>Tests paramétricos asumen que los datos muestrales se recopilaron de una población con una distribución de probabilidad conocida. Muchos de los tests estadísticos asumen que los datos siguen una distribución normal (t de Student, intervalos de confianza, etc.).</p>\n",
        "\n",
        "\n",
        "\n",
        "\n",
        "\n",
        "<p style='font-size: 18px; line-height: 2; margin: 10px 50px; text-align: justify;'></p>\n",
        "<p style='font-size: 18px; line-height: 2; margin: 10px 50px; text-align: justify;'></p>\n",
        "<p style='font-size: 18px; line-height: 2; margin: 10px 50px; text-align: justify;'></p>\n",
        "<p style='font-size: 18px; line-height: 2; margin: 10px 50px; text-align: justify;'></p>\n",
        "<p style='font-size: 18px; line-height: 2; margin: 10px 50px; text-align: justify;'></p>\n",
        "<p style='font-size: 18px; line-height: 2; margin: 10px 50px; text-align: justify;'></p>\n",
        "<p style='font-size: 18px; line-height: 2; margin: 10px 50px; text-align: justify;'></p>\n",
        "<p style='font-size: 18px; line-height: 2; margin: 10px 50px; text-align: justify;'></p>"
      ]
    },
    {
      "cell_type": "markdown",
      "metadata": {
        "id": "si5MILrIFlIc"
      },
      "source": [
        "## Importando la biblioteca numpy"
      ]
    },
    {
      "cell_type": "code",
      "metadata": {
        "id": "U7FjDKgCFlIc"
      },
      "source": [],
      "execution_count": null,
      "outputs": []
    },
    {
      "cell_type": "markdown",
      "metadata": {
        "id": "GaTxpBGqFlIe"
      },
      "source": [
        "## Aplicando la transformación logarítmica a los datos del *dataset*\n",
        "\n",
        "https://docs.scipy.org/doc/numpy-1.15.0/reference/generated/numpy.log.html"
      ]
    },
    {
      "cell_type": "code",
      "metadata": {
        "id": "AJr7NUQnFlIf"
      },
      "source": [],
      "execution_count": null,
      "outputs": []
    },
    {
      "cell_type": "code",
      "metadata": {
        "id": "tyoDbAntFlIg"
      },
      "source": [],
      "execution_count": null,
      "outputs": []
    },
    {
      "cell_type": "code",
      "metadata": {
        "id": "XLbST4UlFlIh"
      },
      "source": [],
      "execution_count": null,
      "outputs": []
    },
    {
      "cell_type": "markdown",
      "metadata": {
        "id": "HcMKHQ43FlIh"
      },
      "source": [
        "## Distribuición de frecuencias de la variable *dependiente transformada* (y)"
      ]
    },
    {
      "cell_type": "code",
      "metadata": {
        "id": "6jbHSPU5FlIi"
      },
      "source": [
        "\n",
        "ax.figure.set_size_inches(12, 6)\n",
        "ax.set_title('Distribuición de Frecuencias', fontsize=20)\n",
        "ax.set_xlabel('log del Precio de los Inmuebles', fontsize=16)\n",
        "ax"
      ],
      "execution_count": null,
      "outputs": []
    },
    {
      "cell_type": "markdown",
      "metadata": {
        "id": "Bej9N97WFlIj"
      },
      "source": [
        "# <font color='red' style='font-size: 30px;'>3.2 Comprobando relación lineal</font>\n",
        "<hr style='border: 2px solid red;'>"
      ]
    },
    {
      "cell_type": "markdown",
      "metadata": {
        "id": "99Y297ffFlIj"
      },
      "source": [
        "## Gráficos de dispersión entre las variables transformadas del dataset"
      ]
    },
    {
      "cell_type": "code",
      "metadata": {
        "id": "NoavoKj7FlIk"
      },
      "source": [
        "\n",
        "ax.fig.suptitle('Dispersión entre las Variables Transformadas', fontsize=20, y=1.05)\n",
        "ax"
      ],
      "execution_count": null,
      "outputs": []
    },
    {
      "cell_type": "markdown",
      "metadata": {
        "id": "7UYBlM0cFlIl"
      },
      "source": [
        "# <font color='red' style='font-size: 30px;'>4.1 Creando los *Datasets* de Entrenamiento y Prueba</font>\n",
        "<hr style='border: 2px solid red;'>"
      ]
    },
    {
      "cell_type": "markdown",
      "metadata": {
        "id": "Qf-pVs7cFlIl"
      },
      "source": [
        "## Importando *train_test_split* de la biblioteca *scikit-learn*\n",
        "\n",
        "https://scikit-learn.org/stable/modules/generated/sklearn.model_selection.train_test_split.html"
      ]
    },
    {
      "cell_type": "code",
      "metadata": {
        "id": "hfG4_yfxFlIm"
      },
      "source": [],
      "execution_count": null,
      "outputs": []
    },
    {
      "cell_type": "markdown",
      "metadata": {
        "id": "YBWiZJFzFlIn"
      },
      "source": [
        "## Creando una Series (pandas) para almacenar el Precio de los Inmubles (y)"
      ]
    },
    {
      "cell_type": "code",
      "metadata": {
        "id": "J0xGjm9KFlIn"
      },
      "source": [],
      "execution_count": null,
      "outputs": []
    },
    {
      "cell_type": "markdown",
      "metadata": {
        "id": "e11VFTQtFlIo"
      },
      "source": [
        "## Creando un DataFrame (pandas) para almacenar las variables explicativas (X)"
      ]
    },
    {
      "cell_type": "code",
      "metadata": {
        "id": "5wgglZ0pFlIp"
      },
      "source": [],
      "execution_count": null,
      "outputs": []
    },
    {
      "cell_type": "markdown",
      "metadata": {
        "id": "vvgWRJUTFlIp"
      },
      "source": [
        "## Creando los datasets de entrenamiento y de prueba"
      ]
    },
    {
      "cell_type": "code",
      "metadata": {
        "id": "6ZRus0zkFlIq"
      },
      "source": [],
      "execution_count": null,
      "outputs": []
    },
    {
      "cell_type": "markdown",
      "metadata": {
        "id": "AkU2ApotFlIq"
      },
      "source": [
        "# Regresión Lineal\n",
        "<hr>\n",
        "\n",
        "<p style='font-size: 20px; line-height: 2; margin: 10px 50px; text-align: justify;'>El análisis de regresión se refiere al estudio de la dependencia de una variable (la variable <b> dependiente </b>) en relación con una o más variables (las variables <b> explicativas </b>) con el fin de estimar y/o predecir el valor medio de la primera en términos de los valores conocidos o fijos de estas últimas.</p>\n",
        "\n",
        "\n",
        "## scikit-learn (https://scikit-learn.org/stable/)\n",
        "\n",
        "<p style='font-size: 20px; line-height: 2; margin: 10px 50px; text-align: justify;'>El *scikit-learn* es un módulo de Python especializado en soluciones para *machine learning*.</p>\n",
        "\n"
      ]
    },
    {
      "cell_type": "markdown",
      "metadata": {
        "id": "Kt9voGShFlIr"
      },
      "source": [
        "<img width='800px' src='https://caelum-online-public.s3.amazonaws.com/ESP-1803-regresion-lineal-tecnicas-avanzadas-modelado/Log-lineal.png'>"
      ]
    },
    {
      "cell_type": "markdown",
      "metadata": {
        "id": "NYfMvfuWFlIs"
      },
      "source": [
        "## Importando la biblioteca statsmodels\n",
        "\n",
        "https://www.statsmodels.org/stable/index.html"
      ]
    },
    {
      "cell_type": "code",
      "metadata": {
        "id": "tIMBPcUHFlIs"
      },
      "source": [],
      "execution_count": null,
      "outputs": []
    },
    {
      "cell_type": "markdown",
      "metadata": {
        "id": "bOWUkv7-FlIt"
      },
      "source": [
        "## Estimando el modelo con statsmodels"
      ]
    },
    {
      "cell_type": "code",
      "metadata": {
        "id": "I-T1gWLtFlIt"
      },
      "source": [],
      "execution_count": null,
      "outputs": []
    },
    {
      "cell_type": "code",
      "metadata": {
        "scrolled": true,
        "id": "v_v702wxFlIu"
      },
      "source": [],
      "execution_count": null,
      "outputs": []
    },
    {
      "cell_type": "code",
      "metadata": {
        "id": "XoAQ3E2bFlIv"
      },
      "source": [],
      "execution_count": null,
      "outputs": []
    },
    {
      "cell_type": "markdown",
      "metadata": {
        "id": "aYw43OG6FlIw"
      },
      "source": [
        "# <font color='red' style='font-size: 30px;'>4.2 Evaluando el Modelo Estimado</font>\n",
        "<hr style='border: 2px solid red;'>"
      ]
    },
    {
      "cell_type": "markdown",
      "metadata": {
        "id": "VnMATAGeFlIx"
      },
      "source": [
        "## Evaluando las estadísticas de prueba del modelo\n",
        "\n",
        "### Test de significancia conjunta de los parámetros\n",
        "<p style='font-size: 20px; line-height: 2; margin: 10px 50px; text-align: justify;'>Prob (F-statistic) <= 0.05 (<b>OK</b>)</p>\n",
        "\n",
        "### Test de significancia individual de los parámetros\n",
        "<p style='font-size: 20px; line-height: 2; margin: 10px 50px; text-align: justify;'>P>|t| <= 0.05 (<b>OK</b>)</p>"
      ]
    },
    {
      "cell_type": "code",
      "metadata": {
        "id": "GS1sjGx0FlIx"
      },
      "source": [],
      "execution_count": null,
      "outputs": []
    },
    {
      "cell_type": "markdown",
      "metadata": {
        "id": "x8w4ivpeFlIy"
      },
      "source": [
        "# <font color='red' style='font-size: 30px;'>4.3 Modificando el modelo y reevaluando el ajuste</font>\n",
        "<hr style='border: 2px solid red;'>"
      ]
    },
    {
      "cell_type": "markdown",
      "metadata": {
        "id": "uhpy3ErcFlIy"
      },
      "source": [
        "## Creando un nuevo conjunto de variables explicativas (X)"
      ]
    },
    {
      "cell_type": "code",
      "metadata": {
        "id": "bcF9MhP5FlIz"
      },
      "source": [],
      "execution_count": null,
      "outputs": []
    },
    {
      "cell_type": "markdown",
      "metadata": {
        "id": "v1IkLVSgFlIz"
      },
      "source": [
        "## Creando los datasets de entrenamiento y de prueba"
      ]
    },
    {
      "cell_type": "code",
      "metadata": {
        "id": "hk1WGDViFlI0"
      },
      "source": [],
      "execution_count": null,
      "outputs": []
    },
    {
      "cell_type": "markdown",
      "metadata": {
        "id": "FoQisi3yFlI0"
      },
      "source": [
        "## Estimando el modelo con el statsmodels"
      ]
    },
    {
      "cell_type": "code",
      "metadata": {
        "id": "TkehwcthFlI1"
      },
      "source": [],
      "execution_count": null,
      "outputs": []
    },
    {
      "cell_type": "code",
      "metadata": {
        "id": "96zm2IIjFlI1"
      },
      "source": [],
      "execution_count": null,
      "outputs": []
    },
    {
      "cell_type": "markdown",
      "metadata": {
        "id": "ddYClVtwFlI2"
      },
      "source": [
        "## Evaluando las estadísticas de prueba para el nuevo modelo\n",
        "\n",
        "### Test de significancia conjunta de los parámetros\n",
        "<p style='font-size: 20px; line-height: 2; margin: 10px 50px; text-align: justify;'>Prob (F-statistic) <= 0.05 (<b>OK</b>)</p>\n",
        "\n",
        "### Test de significancia individual de los parámetros\n",
        "<p style='font-size: 20px; line-height: 2; margin: 10px 50px; text-align: justify;'>P>|t| <= 0.05 (<b>OK</b>)</p>"
      ]
    },
    {
      "cell_type": "code",
      "metadata": {
        "id": "nojd89fQFlI2"
      },
      "source": [],
      "execution_count": null,
      "outputs": []
    },
    {
      "cell_type": "markdown",
      "metadata": {
        "id": "65G1o0WAFlI2"
      },
      "source": [
        "# <font color='red' style='font-size: 30px;'>5.1 Estimando el Modelo con los Datos de Entrenamiento</font>\n",
        "<hr style='border: 2px solid red;'>"
      ]
    },
    {
      "cell_type": "markdown",
      "metadata": {
        "id": "nnXWXnkZFlI3"
      },
      "source": [
        "## Importando *LinearRegression* y *metrics* da la biblioteca *scikit-learn*\n",
        "\n",
        "https://scikit-learn.org/stable/modules/generated/sklearn.linear_model.LinearRegression.html\n",
        "\n",
        "https://scikit-learn.org/stable/modules/classes.html#regression-metrics"
      ]
    },
    {
      "cell_type": "code",
      "metadata": {
        "id": "JwOrTWS8FlI3"
      },
      "source": [],
      "execution_count": null,
      "outputs": []
    },
    {
      "cell_type": "markdown",
      "metadata": {
        "id": "1vCaX_54FlI4"
      },
      "source": [
        "## Instanciando la clase *LinearRegression()*"
      ]
    },
    {
      "cell_type": "code",
      "metadata": {
        "id": "s5ZGfuSIFlI4"
      },
      "source": [],
      "execution_count": null,
      "outputs": []
    },
    {
      "cell_type": "markdown",
      "metadata": {
        "id": "NTiVG8AvFlI4"
      },
      "source": [
        "## Utilizando el método *fit()* del objeto \"modelo\" para estimar nuestro modelo lineal con los datos de ENTRENAMIENTO (y_train y X_train)\n",
        "\n",
        "https://scikit-learn.org/stable/modules/generated/sklearn.linear_model.LinearRegression.html#sklearn.linear_model.LinearRegression.fit"
      ]
    },
    {
      "cell_type": "code",
      "metadata": {
        "id": "xnb7y6icFlI5"
      },
      "source": [],
      "execution_count": null,
      "outputs": []
    },
    {
      "cell_type": "markdown",
      "metadata": {
        "id": "FZKLpWcXFlI5"
      },
      "source": [
        "## Obteniendo el coeficiente de determinación (R²) del modelo estimado con los datos de ENTRENAMIENTO\n",
        "\n",
        "\n",
        "https://scikit-learn.org/stable/modules/generated/sklearn.linear_model.LinearRegression.html#sklearn.linear_model.LinearRegression.score\n",
        "\n",
        "### Coeficiente de Determinación - R²\n",
        "\n",
        "El coeficiente de determinación (R²) es una medida de resumen que indica cuánto se ajusta la recta de regresión a los datos. Es un valor entre 0 y 1.\n",
        "\n",
        "\n",
        "$$R^2(y, \\hat{y}) = 1 - \\frac {\\sum_{i=0}^{n-1}(y_i-\\hat{y}_i)^2}{\\sum_{i=0}^{n-1}(y_i-\\bar{y}_i)^2}$$"
      ]
    },
    {
      "cell_type": "code",
      "metadata": {
        "id": "cu_pADGtFlI6"
      },
      "source": [],
      "execution_count": null,
      "outputs": []
    },
    {
      "cell_type": "markdown",
      "metadata": {
        "id": "XMcKya5UFlI6"
      },
      "source": [
        "## Generando predicciones para los datos de PRUEBA (X_test) con el método *predict()* del objeto \"modelo\"\n",
        "\n",
        "https://scikit-learn.org/stable/modules/generated/sklearn.linear_model.LinearRegression.html#sklearn.linear_model.LinearRegression.predict"
      ]
    },
    {
      "cell_type": "code",
      "metadata": {
        "id": "15_BOdC-FlI6"
      },
      "source": [],
      "execution_count": null,
      "outputs": []
    },
    {
      "cell_type": "markdown",
      "metadata": {
        "id": "Dzxt0-odFlI7"
      },
      "source": [
        "## Obteniendo el coeficiente de determinación (R²) para las predicciones del nuestro modelo\n",
        "\n",
        "https://scikit-learn.org/stable/modules/generated/sklearn.metrics.r2_score.html#sklearn.metrics.r2_score"
      ]
    },
    {
      "cell_type": "code",
      "metadata": {
        "id": "QCkRncKgFlI7"
      },
      "source": [],
      "execution_count": null,
      "outputs": []
    },
    {
      "cell_type": "markdown",
      "metadata": {
        "id": "xvDagBLnFlI8"
      },
      "source": [
        "# <font color='red' style='font-size: 30px;'>5.2 Obteniendo Predicciones Puntuales</font>\n",
        "<hr style='border: 2px solid red;'>"
      ]
    },
    {
      "cell_type": "markdown",
      "metadata": {
        "id": "DDqic2OHFlI9"
      },
      "source": [
        "## Datos de entrada"
      ]
    },
    {
      "cell_type": "code",
      "metadata": {
        "id": "NieywCxIFlI9"
      },
      "source": [],
      "execution_count": null,
      "outputs": []
    },
    {
      "cell_type": "markdown",
      "metadata": {
        "id": "P1n4Fm2gFlI_"
      },
      "source": [
        "## Generando predicción puntual"
      ]
    },
    {
      "cell_type": "code",
      "metadata": {
        "id": "BFgZvzOtFlJA"
      },
      "source": [],
      "execution_count": null,
      "outputs": []
    },
    {
      "cell_type": "markdown",
      "metadata": {
        "id": "Jm71jz3YFlJB"
      },
      "source": [
        "## Invirtiendo la transformación para obtener la estimación en US$\n",
        "\n",
        "https://docs.scipy.org/doc/numpy-1.15.0/reference/generated/numpy.exp.html"
      ]
    },
    {
      "cell_type": "code",
      "metadata": {
        "id": "iBoJJmyFFlJB"
      },
      "source": [],
      "execution_count": null,
      "outputs": []
    },
    {
      "cell_type": "markdown",
      "metadata": {
        "id": "QyBhYwjkFlJC"
      },
      "source": [
        "## Creando un simulador simple"
      ]
    },
    {
      "cell_type": "code",
      "metadata": {
        "id": "qNSQJXz4FlJD"
      },
      "source": [],
      "execution_count": null,
      "outputs": []
    },
    {
      "cell_type": "markdown",
      "metadata": {
        "id": "Y0jPocXvFlJE"
      },
      "source": [
        "# <font color='red' style='font-size: 30px;'>5.3 Interpretación de los Coeficientes Estimados</font>\n",
        "<hr style='border: 2px solid red;'>"
      ]
    },
    {
      "cell_type": "markdown",
      "metadata": {
        "id": "qoEM_aS7FlJF"
      },
      "source": [
        "### Obteniendo el intercepto del modelo\n",
        "\n",
        "<p style='font-size: 20px; line-height: 2; margin: 10px 50px; text-align: justify;'>El <b> intercepto </b> representa el efecto medio en $ Y $ (Precio del Inmueble) con todas las variables explicativas excluidas del modelo. En el caso del modelo log-lineal, este coeficiente debe ser transformado utilizando la función exponencial para que sea presentado en US$.</p>"
      ]
    },
    {
      "cell_type": "code",
      "metadata": {
        "id": "oOrgT4i5FlJG"
      },
      "source": [],
      "execution_count": null,
      "outputs": []
    },
    {
      "cell_type": "code",
      "metadata": {
        "id": "2s-kTQnXFlJI"
      },
      "source": [],
      "execution_count": null,
      "outputs": []
    },
    {
      "cell_type": "markdown",
      "metadata": {
        "id": "Iv2UUxUyFlJJ"
      },
      "source": [
        "## Obteniendo los coeficientes de regresión\n",
        "\n",
        "<p style='font-size: 20px; line-height: 2; margin: 10px 50px; text-align: justify;'>Los <b> coeficientes de regresión </b> $\\beta_2$ y $\\beta_3 $ son conocidos como <b> coeficientes de regresión parciales </b> o <b> coeficientes angulares parciales </b>  </p>\n",
        "\n",
        "<p style='font-size: 20px; line-height: 2; margin: 10px 50px; text-align: justify;'>Un aspecto interesante del modelo log-lineal, que lo ha hecho ampliamente utilizado en estudios aplicados, es que los coeficientes angulares $\\beta_2$ y $\\beta_3$ miden las elasticidades de Y en relación a $X_2$ y $X_3$, es decir, la variación porcentual de Y correspondiente a una variación porcentual dada (pequeña ) en $X_2$ y $X_3$.</p>"
      ]
    },
    {
      "cell_type": "code",
      "metadata": {
        "id": "qY9rpCWAFlJJ"
      },
      "source": [],
      "execution_count": null,
      "outputs": []
    },
    {
      "cell_type": "markdown",
      "metadata": {
        "id": "EzYQZ6l0FlJK"
      },
      "source": [
        "## Confirmando el orden de las variables explicativas en el DataFrame"
      ]
    },
    {
      "cell_type": "code",
      "metadata": {
        "id": "i9jhC5OLFlJL"
      },
      "source": [],
      "execution_count": null,
      "outputs": []
    },
    {
      "cell_type": "markdown",
      "metadata": {
        "id": "SCecFxJuFlJM"
      },
      "source": [
        "## Creando una lista de nombres de las variables del modelo"
      ]
    },
    {
      "cell_type": "code",
      "metadata": {
        "id": "CiCdHryLFlJN"
      },
      "source": [],
      "execution_count": null,
      "outputs": []
    },
    {
      "cell_type": "markdown",
      "metadata": {
        "id": "xb-Wqy6oFlJO"
      },
      "source": [
        "## Creando un DataFrame para almacenar los coeficientes del modelo\n",
        "\n",
        "https://docs.scipy.org/doc/numpy/reference/generated/numpy.append.html?#numpy.append"
      ]
    },
    {
      "cell_type": "code",
      "metadata": {
        "scrolled": true,
        "id": "1LG5iTvkFlJP"
      },
      "source": [],
      "execution_count": null,
      "outputs": []
    },
    {
      "cell_type": "markdown",
      "metadata": {
        "id": "NCtSpi7PFlJQ"
      },
      "source": [
        "## Interpretación de los Coeficientes Estimados\n",
        "\n",
        "<p style='font-size: 20px; line-height: 2; margin: 10px 50px; text-align: justify;'>\n",
        "<b>Intercepto</b> →  Excluyendo el efecto de las variables explicativas ($X_2=X_3=0$), el efecto medio en el Precio de los Inmuebles seria <b>US$ 2.093,66</b> (exp[7.646667]).\n",
        "</p>\n",
        "\n",
        "<p style='font-size: 20px; line-height: 2; margin: 10px 50px; text-align: justify;'>\n",
        "<b>Área (m²)</b> → Manteniendo constante el valor de $X_3$ (Distancia a la Playa), la adición de 1% en el Área de un inmueble genera, en promedio, un aumento de <b>1.06%</b> en el Precio del Inmueble.\n",
        "</p>\n",
        "\n",
        "<p style='font-size: 20px; line-height: 2; margin: 10px 50px; text-align: justify;'>\n",
        "<b>Distancia a la playa (km)</b> → Manteniendo constante el valor de $X_2$ (Área), la adición de 1% en la Distancia de un inmueble a la playa genera, en promedio, una disminución de <b>0.49%</b> en el Precio del Inmueble.\n",
        "</p>"
      ]
    },
    {
      "cell_type": "markdown",
      "metadata": {
        "id": "X5vyx8xWFlJR"
      },
      "source": [
        "# <font color='red' style='font-size: 30px;'>5.4 Análisis Gráfico de los Resultados del Modelo</font>\n",
        "<hr style='border: 2px solid red;'>"
      ]
    },
    {
      "cell_type": "markdown",
      "metadata": {
        "id": "Yd_r1SRpFlJS"
      },
      "source": [
        "## Generando predicciones del modelo para los datos de ENTRENAMIENTO"
      ]
    },
    {
      "cell_type": "code",
      "metadata": {
        "id": "Uo8BoQK-FlJT"
      },
      "source": [],
      "execution_count": null,
      "outputs": []
    },
    {
      "cell_type": "markdown",
      "metadata": {
        "id": "xcGDDFeSFlJU"
      },
      "source": [
        "## Gráfico de dispersión entre valor estimado y valor real\n",
        "\n",
        "https://seaborn.pydata.org/generated/seaborn.scatterplot.html"
      ]
    },
    {
      "cell_type": "code",
      "metadata": {
        "id": "FIMkX3_cFlJU"
      },
      "source": [
        "\n",
        "ax.figure.set_size_inches(12, 6)\n",
        "ax.set_title('Predicción X Real', fontsize=18)\n",
        "ax.set_xlabel('log del Precio - Predicción', fontsize=14)\n",
        "ax.set_ylabel('log del Precio - Real', fontsize=14)\n",
        "ax"
      ],
      "execution_count": null,
      "outputs": []
    },
    {
      "cell_type": "markdown",
      "metadata": {
        "id": "xnSLXlTkFlJV"
      },
      "source": [
        "## Obteniendo los residuos"
      ]
    },
    {
      "cell_type": "code",
      "metadata": {
        "id": "XFTqf-ziFlJW"
      },
      "source": [],
      "execution_count": null,
      "outputs": []
    },
    {
      "cell_type": "markdown",
      "metadata": {
        "id": "vxW3vZtyFlJX"
      },
      "source": [
        "## Graficando la distribuición de frecuencias de los residuos"
      ]
    },
    {
      "cell_type": "code",
      "metadata": {
        "id": "TgDZ_BlQFlJY"
      },
      "source": [
        "\n",
        "ax.figure.set_size_inches(12, 6)\n",
        "ax.set_title('Distribuición de Frecuencias de los Residuos', fontsize=18)\n",
        "ax.set_xlabel('log del Precio', fontsize=14)\n",
        "ax"
      ],
      "execution_count": null,
      "outputs": []
    }
  ]
}