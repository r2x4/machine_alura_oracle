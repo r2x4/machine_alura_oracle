{
 "cells": [
  {
   "cell_type": "markdown",
   "metadata": {
    "id": "WvMflodMjQKe"
   },
   "source": [
    "***\n",
    "# <font color=#56B4E9 size=10>CURSO DE ESTADÍSTICA</font>\n",
    "***"
   ]
  },
  {
   "cell_type": "markdown",
   "metadata": {
    "id": "ZnwA7xRedS62"
   },
   "source": [
    "<font color=#56B4E9 size = 5>*Preparando el ambiente*</font>"
   ]
  },
  {
   "cell_type": "markdown",
   "metadata": {
    "id": "cVgsZ_E3jQKg"
   },
   "source": [
    "# <font color=#56B4E9>1 CONOCIENDO LOS DATOS</font>\n",
    "***"
   ]
  },
  {
   "cell_type": "markdown",
   "metadata": {
    "id": "TDjqYYNojQKh"
   },
   "source": [
    "## <font color=#56B4E9>1.1 Dataset del proyecto</font>\n",
    "***"
   ]
  },
  {
   "cell_type": "markdown",
   "metadata": {
    "id": "iN1gIbaKjQKh"
   },
   "source": [
    "### Muestra de domicilios Colombia - 2018\n",
    "\n",
    "Las investigaciones por muestras de domicilios realizadas anualmente, buscan encontrar característcias generales de la población, de educación, trabajo, rendimiento y otras, de acuerdo con las necesidades de información del país, tales como las características de migración, fertilidad, casamientos, salud, nutrición, entre otros temas. Estas muestras al pasar de los años consistuyen una herramienta importante para la formulación, validación y evaluación de políticas dirigidas al desarrollo socioeconómico y la mejora de las condiciones de vida en Colombia.\n"
   ]
  },
  {
   "cell_type": "markdown",
   "metadata": {
    "id": "U6V7br1RjQKi"
   },
   "source": [
    "### Datos\n",
    "\n",
    "Los datos fueron creados  de manera didáctica para este curso."
   ]
  },
  {
   "cell_type": "markdown",
   "metadata": {
    "id": "r0Fe_qnzjQKj"
   },
   "source": [
    "### Variables utilizadas\n",
    "\n",
    "> ### Ingreso\n",
    "> ***\n",
    "\n",
    "Ingresos mensuales (en miles de pesos) del trabajo principal para personas de 10 años o más.\n",
    "\n",
    "> ### Edad\n",
    "> ***\n",
    "\n",
    "Edad del entrevistado en la fecha de referencia en años.\n",
    "\n",
    "> ### Altura\n",
    "> ***\n",
    "\n",
    "Altura del entrevistado em metros.\n",
    "\n",
    "> ### Ciudad\n",
    "> ***\n",
    "\n",
    "Código de referência a 27 ciudades analizadas.\n",
    "\n",
    "\n",
    "> ### Sexo\n",
    "> ***\n",
    "\n",
    "|Código|Descripción|\n",
    "|---|---|\n",
    "|0|Masculino|\n",
    "|1|Femenino|\n",
    "\n",
    "> ### Años de Estudio\n",
    "> ***\n",
    "\n",
    "|Código|Descripción|\n",
    "|---|---|\n",
    "|1|Sin estudios y menos de 1 año|\n",
    "|2|1 año|\n",
    "|3|2 años|\n",
    "|4|3 años|\n",
    "|5|4 años|\n",
    "|6|5 años|\n",
    "|7|6 años|\n",
    "|8|7 años|\n",
    "|9|8 años|\n",
    "|10|9 años|\n",
    "|11|10 años|\n",
    "|12|11 años|\n",
    "|13|12 años|\n",
    "|14|13 años|\n",
    "|15|14 años|\n",
    "|16|15 años o más|\n",
    "|17|No se sabe|\n",
    "||No aplica|\n",
    "\n",
    "> ### Color\n",
    "> ***\n",
    "\n",
    "|Código|Descripción|\n",
    "|---|---|\n",
    "|0|Indio|\n",
    "|2|Blanco|\n",
    "|4|Negro|\n",
    "|6|Amarillo|\n",
    "|8|Moreno|\n",
    "|9|Sin declarar|"
   ]
  },
  {
   "cell_type": "markdown",
   "metadata": {
    "id": "OK1IQH5cX7Gb"
   },
   "source": [
    "> ### Tratamiento a los datos\n",
    "***\n",
    "\n",
    "> Algunos de los tratamientos de datos más frecuentes son:\n",
    "> 1. Eliminar las observaciones (líneas) con entradas de datos inválidos;\n",
    "> 2. Eliminar observaciones donde hay datos perdidos (missing data);\n",
    "> 3. Filtros própios de la investigación, por ejemplo: considerar solo las encuestas realizadas a la cabeza de familia (responsable por el domicilio)."
   ]
  },
  {
   "cell_type": "markdown",
   "metadata": {
    "id": "8Rw70V6ojQKk"
   },
   "source": [
    "### Importando pandas y leyendo el dataset del projecto\n",
    "\n",
    "https://pandas.pydata.org/"
   ]
  },
  {
   "cell_type": "code",
   "execution_count": 1,
   "metadata": {
    "id": "8QgOpE-wjQKl"
   },
   "outputs": [],
   "source": [
    "import pandas as pd"
   ]
  },
  {
   "cell_type": "code",
   "execution_count": 2,
   "metadata": {
    "id": "ufRZ7TLwjQKo"
   },
   "outputs": [],
   "source": [
    "datos = pd.read_csv(\"datos.csv\")"
   ]
  },
  {
   "cell_type": "code",
   "execution_count": 3,
   "metadata": {
    "colab": {
     "base_uri": "https://localhost:8080/",
     "height": 363
    },
    "id": "GsC_WhLFjQKq",
    "outputId": "961b2fef-de38-4d0f-c181-b4150e6895e6"
   },
   "outputs": [
    {
     "data": {
      "text/html": [
       "<div>\n",
       "<style scoped>\n",
       "    .dataframe tbody tr th:only-of-type {\n",
       "        vertical-align: middle;\n",
       "    }\n",
       "\n",
       "    .dataframe tbody tr th {\n",
       "        vertical-align: top;\n",
       "    }\n",
       "\n",
       "    .dataframe thead th {\n",
       "        text-align: right;\n",
       "    }\n",
       "</style>\n",
       "<table border=\"1\" class=\"dataframe\">\n",
       "  <thead>\n",
       "    <tr style=\"text-align: right;\">\n",
       "      <th></th>\n",
       "      <th>Ciudad</th>\n",
       "      <th>Sexo</th>\n",
       "      <th>Edad</th>\n",
       "      <th>Color</th>\n",
       "      <th>Años de Estudio</th>\n",
       "      <th>Ingreso</th>\n",
       "      <th>Altura</th>\n",
       "    </tr>\n",
       "  </thead>\n",
       "  <tbody>\n",
       "    <tr>\n",
       "      <th>38715</th>\n",
       "      <td>31</td>\n",
       "      <td>0</td>\n",
       "      <td>45</td>\n",
       "      <td>8</td>\n",
       "      <td>9</td>\n",
       "      <td>2000</td>\n",
       "      <td>1.774836</td>\n",
       "    </tr>\n",
       "    <tr>\n",
       "      <th>60746</th>\n",
       "      <td>42</td>\n",
       "      <td>1</td>\n",
       "      <td>41</td>\n",
       "      <td>2</td>\n",
       "      <td>10</td>\n",
       "      <td>1200</td>\n",
       "      <td>1.554129</td>\n",
       "    </tr>\n",
       "    <tr>\n",
       "      <th>68092</th>\n",
       "      <td>50</td>\n",
       "      <td>0</td>\n",
       "      <td>51</td>\n",
       "      <td>2</td>\n",
       "      <td>3</td>\n",
       "      <td>1800</td>\n",
       "      <td>1.701936</td>\n",
       "    </tr>\n",
       "    <tr>\n",
       "      <th>71242</th>\n",
       "      <td>51</td>\n",
       "      <td>0</td>\n",
       "      <td>54</td>\n",
       "      <td>8</td>\n",
       "      <td>3</td>\n",
       "      <td>500</td>\n",
       "      <td>1.597732</td>\n",
       "    </tr>\n",
       "    <tr>\n",
       "      <th>47702</th>\n",
       "      <td>35</td>\n",
       "      <td>0</td>\n",
       "      <td>45</td>\n",
       "      <td>8</td>\n",
       "      <td>12</td>\n",
       "      <td>4000</td>\n",
       "      <td>1.653521</td>\n",
       "    </tr>\n",
       "    <tr>\n",
       "      <th>60973</th>\n",
       "      <td>42</td>\n",
       "      <td>1</td>\n",
       "      <td>51</td>\n",
       "      <td>2</td>\n",
       "      <td>16</td>\n",
       "      <td>5000</td>\n",
       "      <td>1.635405</td>\n",
       "    </tr>\n",
       "    <tr>\n",
       "      <th>69596</th>\n",
       "      <td>51</td>\n",
       "      <td>0</td>\n",
       "      <td>47</td>\n",
       "      <td>8</td>\n",
       "      <td>9</td>\n",
       "      <td>2000</td>\n",
       "      <td>1.751017</td>\n",
       "    </tr>\n",
       "    <tr>\n",
       "      <th>9296</th>\n",
       "      <td>15</td>\n",
       "      <td>0</td>\n",
       "      <td>40</td>\n",
       "      <td>8</td>\n",
       "      <td>8</td>\n",
       "      <td>1000</td>\n",
       "      <td>1.717230</td>\n",
       "    </tr>\n",
       "    <tr>\n",
       "      <th>56212</th>\n",
       "      <td>41</td>\n",
       "      <td>1</td>\n",
       "      <td>48</td>\n",
       "      <td>2</td>\n",
       "      <td>8</td>\n",
       "      <td>1500</td>\n",
       "      <td>1.763200</td>\n",
       "    </tr>\n",
       "    <tr>\n",
       "      <th>16844</th>\n",
       "      <td>23</td>\n",
       "      <td>0</td>\n",
       "      <td>62</td>\n",
       "      <td>2</td>\n",
       "      <td>5</td>\n",
       "      <td>0</td>\n",
       "      <td>1.559565</td>\n",
       "    </tr>\n",
       "  </tbody>\n",
       "</table>\n",
       "</div>"
      ],
      "text/plain": [
       "       Ciudad  Sexo  Edad  Color  Años de Estudio  Ingreso    Altura\n",
       "38715      31     0    45      8                9     2000  1.774836\n",
       "60746      42     1    41      2               10     1200  1.554129\n",
       "68092      50     0    51      2                3     1800  1.701936\n",
       "71242      51     0    54      8                3      500  1.597732\n",
       "47702      35     0    45      8               12     4000  1.653521\n",
       "60973      42     1    51      2               16     5000  1.635405\n",
       "69596      51     0    47      8                9     2000  1.751017\n",
       "9296       15     0    40      8                8     1000  1.717230\n",
       "56212      41     1    48      2                8     1500  1.763200\n",
       "16844      23     0    62      2                5        0  1.559565"
      ]
     },
     "execution_count": 3,
     "metadata": {},
     "output_type": "execute_result"
    }
   ],
   "source": [
    "datos.sample(10)"
   ]
  },
  {
   "cell_type": "markdown",
   "metadata": {
    "id": "E3Mx0tVqjQKs"
   },
   "source": [
    "## <font color=#56B4E9>1.2 Tipos de datos</font>\n",
    "***"
   ]
  },
  {
   "cell_type": "markdown",
   "metadata": {
    "id": "eyEoPgWkdGBW"
   },
   "source": [
    "### Clasificación de una variable\n",
    "<img src='https://caelum-online-public.s3.amazonaws.com/ESP-1752-estadistica-con-python-parte1/img001.png' width='70%'>"
   ]
  },
  {
   "cell_type": "markdown",
   "metadata": {
    "id": "oB4TCBFojQKt"
   },
   "source": [
    "### Variables cualitativas ordinales\n",
    "\n",
    "► Variables que pueden ser ordenadas o que responen algun tipo de jerarquía"
   ]
  },
  {
   "cell_type": "code",
   "execution_count": 4,
   "metadata": {
    "colab": {
     "base_uri": "https://localhost:8080/"
    },
    "id": "NtQZNGNbjQKt",
    "outputId": "3094b123-5eb2-4146-b22c-5d70f9d9c0b8"
   },
   "outputs": [
    {
     "data": {
      "text/plain": [
       "[1, 2, 3, 4, 5, 6, 7, 8, 9, 10, 11, 12, 13, 14, 15, 16, 17]"
      ]
     },
     "execution_count": 4,
     "metadata": {},
     "output_type": "execute_result"
    }
   ],
   "source": [
    "sorted(datos['Años de Estudio'].unique())"
   ]
  },
  {
   "cell_type": "markdown",
   "metadata": {
    "id": "i2mCIMyojQKv"
   },
   "source": [
    "### Variables cualitativas nominales\n",
    "\n",
    "► Variables que no pueden ser ordenadas ni responden alguna jerarquía."
   ]
  },
  {
   "cell_type": "code",
   "execution_count": 5,
   "metadata": {
    "colab": {
     "base_uri": "https://localhost:8080/"
    },
    "id": "NODtY5IxjQKw",
    "outputId": "80f48776-15e6-4147-bab4-d722e3e64dc0",
    "scrolled": true
   },
   "outputs": [
    {
     "data": {
      "text/plain": [
       "[0, 1]"
      ]
     },
     "execution_count": 5,
     "metadata": {},
     "output_type": "execute_result"
    }
   ],
   "source": [
    "sorted(datos['Sexo'].unique())"
   ]
  },
  {
   "cell_type": "code",
   "execution_count": 6,
   "metadata": {
    "colab": {
     "base_uri": "https://localhost:8080/"
    },
    "id": "NURfft2QjQKy",
    "outputId": "890efbce-70d8-4ed5-f59e-782816aaa7cb"
   },
   "outputs": [
    {
     "data": {
      "text/plain": [
       "[0, 2, 4, 6, 8]"
      ]
     },
     "execution_count": 6,
     "metadata": {},
     "output_type": "execute_result"
    }
   ],
   "source": [
    "sorted(datos['Color'].unique())"
   ]
  },
  {
   "cell_type": "code",
   "execution_count": 7,
   "metadata": {
    "colab": {
     "base_uri": "https://localhost:8080/"
    },
    "id": "6VwGyqxMjQK1",
    "outputId": "20cfcf41-d493-420e-8b63-3deccdd796cb"
   },
   "outputs": [
    {
     "data": {
      "text/plain": [
       "[11,\n",
       " 12,\n",
       " 13,\n",
       " 14,\n",
       " 15,\n",
       " 16,\n",
       " 17,\n",
       " 21,\n",
       " 22,\n",
       " 23,\n",
       " 24,\n",
       " 25,\n",
       " 26,\n",
       " 27,\n",
       " 28,\n",
       " 29,\n",
       " 31,\n",
       " 32,\n",
       " 33,\n",
       " 35,\n",
       " 41,\n",
       " 42,\n",
       " 43,\n",
       " 50,\n",
       " 51,\n",
       " 52,\n",
       " 53]"
      ]
     },
     "execution_count": 7,
     "metadata": {},
     "output_type": "execute_result"
    }
   ],
   "source": [
    "sorted(datos['Ciudad'].unique())"
   ]
  },
  {
   "cell_type": "markdown",
   "metadata": {
    "id": "FQhi81LsjQK5"
   },
   "source": [
    "### Variables cuantitativas discretas\n",
    "\n",
    "► Variables que representan un conteo donde los valores posibles forman un conjunto finito o numerable.\n"
   ]
  },
  {
   "cell_type": "code",
   "execution_count": 8,
   "metadata": {
    "colab": {
     "base_uri": "https://localhost:8080/"
    },
    "id": "sr4JXeZkjQK5",
    "outputId": "055beb1e-ed71-4642-d056-a076ef0ee5e1"
   },
   "outputs": [
    {
     "data": {
      "text/plain": [
       "99"
      ]
     },
     "execution_count": 8,
     "metadata": {},
     "output_type": "execute_result"
    }
   ],
   "source": [
    "datos.Edad.max()"
   ]
  },
  {
   "cell_type": "code",
   "execution_count": 9,
   "metadata": {
    "colab": {
     "base_uri": "https://localhost:8080/"
    },
    "id": "GVlc2AOygAX_",
    "outputId": "e119ac43-0444-4d27-bb17-2ae2d2fd91de"
   },
   "outputs": [
    {
     "name": "stdout",
     "output_type": "stream",
     "text": [
      "La edad mínima es 13 y la edad máxima es 99\n"
     ]
    }
   ],
   "source": [
    "print(f\"La edad mínima es {datos.Edad.min()} y la edad máxima es {datos.Edad.max()}\")"
   ]
  },
  {
   "cell_type": "markdown",
   "metadata": {
    "id": "7mMXLTukjQK-"
   },
   "source": [
    "#### <font color='red'>Observación</font>\n",
    "***\n",
    "> La variable edad puede ser clasificada de tres formas diferentes:\n",
    "> 1. <b>CUANTITATIVA DISCRETA</b> - cuando representa años completos (números enteros);\n",
    "> 2. <b>CUANTITATIVA CONTINUA</b> - cuando representa la edad exacta, siendo representada por fracciones de años;\n",
    "> 3. <b>CUALITATIVA ORDINAL</b> - cuando representa  intervalos de edad."
   ]
  },
  {
   "cell_type": "markdown",
   "metadata": {
    "id": "J0L2OkaQjQK7"
   },
   "source": [
    "### Variables cuantitativas continuas\n",
    "\n",
    "► Variables que representan un conteo o medición que asume valores en escalas continuas (números reales)."
   ]
  },
  {
   "cell_type": "code",
   "execution_count": 10,
   "metadata": {
    "colab": {
     "base_uri": "https://localhost:8080/"
    },
    "id": "jOW-bGyRjQK8",
    "outputId": "dd91ef7a-2853-4a5c-b157-97fce5df9a0c"
   },
   "outputs": [
    {
     "name": "stdout",
     "output_type": "stream",
     "text": [
      "La Altura mínima es 1.339244614 y la altura máxima es 2.028496765\n"
     ]
    }
   ],
   "source": [
    "print(f\"La Altura mínima es {datos['Altura'].min()} y la altura máxima es {datos['Altura'].max()}\")"
   ]
  },
  {
   "cell_type": "markdown",
   "metadata": {
    "id": "d_LW5gMIjQK_"
   },
   "source": []
  },
  {
   "cell_type": "markdown",
   "metadata": {
    "id": "PNIg_4VEjQK_"
   },
   "source": [
    "# <font color=#56B4E9>2 DISTRIBUCIÓN DE FRECUENCIAS</font>\n",
    "***\n",
    "\n",
    "El primer paso en un análisis es conocer el comportamiento de las variables involucradas en el estudio. Utilizando técnicas estadísticas como el análisis de las <b> DISTRIBUCIONES DE FRECUENCIAS </b> e <b> HISTOGRAMAS </b> podemos evaluar mejor cómo se distribuyen los fenómenos del estudio.\n",
    "\n"
   ]
  },
  {
   "cell_type": "markdown",
   "metadata": {
    "id": "JhpyjkEFjQLA"
   },
   "source": [
    "## <font color=#56B4E9>2.1 Distribución de frecuencias para variables cualitativas</font>\n",
    "***"
   ]
  },
  {
   "cell_type": "markdown",
   "metadata": {
    "id": "SsN3ikjqjQLB"
   },
   "source": [
    "### Método 1"
   ]
  },
  {
   "cell_type": "markdown",
   "metadata": {
    "id": "dj_v0M44X7G3"
   },
   "source": [
    "https://pandas.pydata.org/pandas-docs/version/0.22/generated/pandas.Series.value_counts.html"
   ]
  },
  {
   "cell_type": "code",
   "execution_count": 11,
   "metadata": {
    "id": "E5kBdu25S6N2"
   },
   "outputs": [
    {
     "data": {
      "text/plain": [
       "Sexo\n",
       "0    53250\n",
       "1    23590\n",
       "Name: count, dtype: int64"
      ]
     },
     "execution_count": 11,
     "metadata": {},
     "output_type": "execute_result"
    }
   ],
   "source": [
    "# ve rpor grupos de hombres y mujeres \n",
    "\n",
    "datos.Sexo.value_counts()"
   ]
  },
  {
   "cell_type": "code",
   "execution_count": 12,
   "metadata": {
    "id": "S44P2cFdS6Vd"
   },
   "outputs": [
    {
     "data": {
      "text/plain": [
       "Sexo\n",
       "0    69.3\n",
       "1    30.7\n",
       "Name: proportion, dtype: float64"
      ]
     },
     "execution_count": 12,
     "metadata": {},
     "output_type": "execute_result"
    }
   ],
   "source": [
    "# lo vamos a ver por poorcentaje\n",
    "\n",
    "datos.Sexo.value_counts(normalize = True).round(4) * 100"
   ]
  },
  {
   "cell_type": "code",
   "execution_count": 13,
   "metadata": {
    "id": "ei4HjtQzS64J"
   },
   "outputs": [
    {
     "data": {
      "text/plain": [
       "Sexo\n",
       "0    53250\n",
       "1    23590\n",
       "Name: count, dtype: int64"
      ]
     },
     "execution_count": 13,
     "metadata": {},
     "output_type": "execute_result"
    }
   ],
   "source": [
    "# varibale\n",
    "frecuencia_sexo = datos.Sexo.value_counts()\n",
    "frecuencia_sexo"
   ]
  },
  {
   "cell_type": "code",
   "execution_count": 14,
   "metadata": {
    "id": "-bxrivcQS7I4"
   },
   "outputs": [
    {
     "data": {
      "text/plain": [
       "Sexo\n",
       "0    69.3\n",
       "1    30.7\n",
       "Name: proportion, dtype: float64"
      ]
     },
     "execution_count": 14,
     "metadata": {},
     "output_type": "execute_result"
    }
   ],
   "source": [
    "# porcentaje \n",
    "\n",
    "porcentaje_sexo = datos.Sexo.value_counts(normalize = True).round(4) * 100\n",
    "porcentaje_sexo"
   ]
  },
  {
   "cell_type": "code",
   "execution_count": 15,
   "metadata": {
    "id": "1tUSm47gS7ET"
   },
   "outputs": [
    {
     "data": {
      "text/html": [
       "<div>\n",
       "<style scoped>\n",
       "    .dataframe tbody tr th:only-of-type {\n",
       "        vertical-align: middle;\n",
       "    }\n",
       "\n",
       "    .dataframe tbody tr th {\n",
       "        vertical-align: top;\n",
       "    }\n",
       "\n",
       "    .dataframe thead th {\n",
       "        text-align: right;\n",
       "    }\n",
       "</style>\n",
       "<table border=\"1\" class=\"dataframe\">\n",
       "  <thead>\n",
       "    <tr style=\"text-align: right;\">\n",
       "      <th></th>\n",
       "      <th>Frecuencia</th>\n",
       "      <th>Porcentaje %</th>\n",
       "    </tr>\n",
       "    <tr>\n",
       "      <th>Sexo</th>\n",
       "      <th></th>\n",
       "      <th></th>\n",
       "    </tr>\n",
       "  </thead>\n",
       "  <tbody>\n",
       "    <tr>\n",
       "      <th>0</th>\n",
       "      <td>53250</td>\n",
       "      <td>69.3</td>\n",
       "    </tr>\n",
       "    <tr>\n",
       "      <th>1</th>\n",
       "      <td>23590</td>\n",
       "      <td>30.7</td>\n",
       "    </tr>\n",
       "  </tbody>\n",
       "</table>\n",
       "</div>"
      ],
      "text/plain": [
       "      Frecuencia  Porcentaje %\n",
       "Sexo                          \n",
       "0          53250          69.3\n",
       "1          23590          30.7"
      ]
     },
     "execution_count": 15,
     "metadata": {},
     "output_type": "execute_result"
    }
   ],
   "source": [
    "# crear tabla= crear dataframe\n",
    "\n",
    "dist_frec_cualitativa = pd.DataFrame({'Frecuencia': frecuencia_sexo, 'Porcentaje %': porcentaje_sexo})\n",
    "dist_frec_cualitativa"
   ]
  },
  {
   "cell_type": "code",
   "execution_count": 16,
   "metadata": {
    "id": "eWwZoAC_S6vA"
   },
   "outputs": [
    {
     "data": {
      "text/html": [
       "<div>\n",
       "<style scoped>\n",
       "    .dataframe tbody tr th:only-of-type {\n",
       "        vertical-align: middle;\n",
       "    }\n",
       "\n",
       "    .dataframe tbody tr th {\n",
       "        vertical-align: top;\n",
       "    }\n",
       "\n",
       "    .dataframe thead th {\n",
       "        text-align: right;\n",
       "    }\n",
       "</style>\n",
       "<table border=\"1\" class=\"dataframe\">\n",
       "  <thead>\n",
       "    <tr style=\"text-align: right;\">\n",
       "      <th></th>\n",
       "      <th>Frecuencia</th>\n",
       "      <th>Porcentaje %</th>\n",
       "    </tr>\n",
       "    <tr>\n",
       "      <th>Sexo</th>\n",
       "      <th></th>\n",
       "      <th></th>\n",
       "    </tr>\n",
       "  </thead>\n",
       "  <tbody>\n",
       "    <tr>\n",
       "      <th>Masculino</th>\n",
       "      <td>53250</td>\n",
       "      <td>69.3</td>\n",
       "    </tr>\n",
       "    <tr>\n",
       "      <th>Femenino</th>\n",
       "      <td>23590</td>\n",
       "      <td>30.7</td>\n",
       "    </tr>\n",
       "  </tbody>\n",
       "</table>\n",
       "</div>"
      ],
      "text/plain": [
       "           Frecuencia  Porcentaje %\n",
       "Sexo                               \n",
       "Masculino       53250          69.3\n",
       "Femenino        23590          30.7"
      ]
     },
     "execution_count": 16,
     "metadata": {},
     "output_type": "execute_result"
    }
   ],
   "source": [
    "# renombrar los datos de la columna ene ste caso 0 - 1\n",
    "\n",
    "dist_frec_cualitativa.rename(index = {0: 'Masculino', 1: 'Femenino'}, inplace = True)\n",
    "dist_frec_cualitativa"
   ]
  },
  {
   "cell_type": "code",
   "execution_count": 17,
   "metadata": {
    "id": "R-ihT12qoO7t"
   },
   "outputs": [
    {
     "data": {
      "text/html": [
       "<div>\n",
       "<style scoped>\n",
       "    .dataframe tbody tr th:only-of-type {\n",
       "        vertical-align: middle;\n",
       "    }\n",
       "\n",
       "    .dataframe tbody tr th {\n",
       "        vertical-align: top;\n",
       "    }\n",
       "\n",
       "    .dataframe thead th {\n",
       "        text-align: right;\n",
       "    }\n",
       "</style>\n",
       "<table border=\"1\" class=\"dataframe\">\n",
       "  <thead>\n",
       "    <tr style=\"text-align: right;\">\n",
       "      <th>Sexo</th>\n",
       "      <th>Frecuencia</th>\n",
       "      <th>Porcentaje %</th>\n",
       "    </tr>\n",
       "    <tr>\n",
       "      <th>Sexo</th>\n",
       "      <th></th>\n",
       "      <th></th>\n",
       "    </tr>\n",
       "  </thead>\n",
       "  <tbody>\n",
       "    <tr>\n",
       "      <th>Masculino</th>\n",
       "      <td>53250</td>\n",
       "      <td>69.3</td>\n",
       "    </tr>\n",
       "    <tr>\n",
       "      <th>Femenino</th>\n",
       "      <td>23590</td>\n",
       "      <td>30.7</td>\n",
       "    </tr>\n",
       "  </tbody>\n",
       "</table>\n",
       "</div>"
      ],
      "text/plain": [
       "Sexo       Frecuencia  Porcentaje %\n",
       "Sexo                               \n",
       "Masculino       53250          69.3\n",
       "Femenino        23590          30.7"
      ]
     },
     "execution_count": 17,
     "metadata": {},
     "output_type": "execute_result"
    }
   ],
   "source": [
    "# ponemos nombre ala columna \n",
    "\n",
    "dist_frec_cualitativa.rename_axis('Sexo', axis = 'columns', inplace = True)\n",
    "dist_frec_cualitativa"
   ]
  },
  {
   "cell_type": "code",
   "execution_count": null,
   "metadata": {
    "id": "yB2Aq-VpS6q2"
   },
   "outputs": [],
   "source": []
  },
  {
   "cell_type": "code",
   "execution_count": null,
   "metadata": {
    "id": "Wd_f-1QrS6ip"
   },
   "outputs": [],
   "source": []
  },
  {
   "cell_type": "code",
   "execution_count": null,
   "metadata": {
    "id": "AeUqd9_q2BPU"
   },
   "outputs": [],
   "source": []
  },
  {
   "cell_type": "code",
   "execution_count": null,
   "metadata": {
    "id": "k3iyK2sy2RU4"
   },
   "outputs": [],
   "source": []
  },
  {
   "cell_type": "markdown",
   "metadata": {
    "id": "D82ocp_djQLR"
   },
   "source": [
    "### Método 2"
   ]
  },
  {
   "cell_type": "markdown",
   "metadata": {
    "id": "rLbfeA_UX7HF"
   },
   "source": [
    "https://pandas.pydata.org/pandas-docs/version/0.22/generated/pandas.crosstab.html"
   ]
  },
  {
   "cell_type": "code",
   "execution_count": 18,
   "metadata": {
    "id": "S3beD799Sy5B"
   },
   "outputs": [],
   "source": [
    "sexo = {0: 'Masculino',\n",
    "        1: 'Femenino'}\n",
    "\n",
    "color = {0: 'Indigena',\n",
    "         2: 'Blanco',\n",
    "         4: 'Negro',\n",
    "         6: 'Amarillo',\n",
    "         8: 'Pardo',\n",
    "         9: 'Sin declarar'}"
   ]
  },
  {
   "cell_type": "code",
   "execution_count": 19,
   "metadata": {
    "id": "XmX9lCgRSzIH"
   },
   "outputs": [],
   "source": [
    "# columnas y filas\n",
    "\n",
    "frecuencia = pd.crosstab(datos.Sexo,\n",
    "                    datos.Color)"
   ]
  },
  {
   "cell_type": "code",
   "execution_count": 20,
   "metadata": {
    "id": "Zx2PnA5FSzES"
   },
   "outputs": [
    {
     "data": {
      "text/html": [
       "<div>\n",
       "<style scoped>\n",
       "    .dataframe tbody tr th:only-of-type {\n",
       "        vertical-align: middle;\n",
       "    }\n",
       "\n",
       "    .dataframe tbody tr th {\n",
       "        vertical-align: top;\n",
       "    }\n",
       "\n",
       "    .dataframe thead th {\n",
       "        text-align: right;\n",
       "    }\n",
       "</style>\n",
       "<table border=\"1\" class=\"dataframe\">\n",
       "  <thead>\n",
       "    <tr style=\"text-align: right;\">\n",
       "      <th>Color</th>\n",
       "      <th>Indigena</th>\n",
       "      <th>Blanco</th>\n",
       "      <th>Negro</th>\n",
       "      <th>Amarillo</th>\n",
       "      <th>Pardo</th>\n",
       "    </tr>\n",
       "    <tr>\n",
       "      <th>Sexo</th>\n",
       "      <th></th>\n",
       "      <th></th>\n",
       "      <th></th>\n",
       "      <th></th>\n",
       "      <th></th>\n",
       "    </tr>\n",
       "  </thead>\n",
       "  <tbody>\n",
       "    <tr>\n",
       "      <th>Masculino</th>\n",
       "      <td>256</td>\n",
       "      <td>22194</td>\n",
       "      <td>5502</td>\n",
       "      <td>235</td>\n",
       "      <td>25063</td>\n",
       "    </tr>\n",
       "    <tr>\n",
       "      <th>Femenino</th>\n",
       "      <td>101</td>\n",
       "      <td>9621</td>\n",
       "      <td>2889</td>\n",
       "      <td>117</td>\n",
       "      <td>10862</td>\n",
       "    </tr>\n",
       "  </tbody>\n",
       "</table>\n",
       "</div>"
      ],
      "text/plain": [
       "Color      Indigena  Blanco  Negro  Amarillo  Pardo\n",
       "Sexo                                               \n",
       "Masculino       256   22194   5502       235  25063\n",
       "Femenino        101    9621   2889       117  10862"
      ]
     },
     "execution_count": 20,
     "metadata": {},
     "output_type": "execute_result"
    }
   ],
   "source": [
    "# renombrar\n",
    "\n",
    "frecuencia.rename(index = sexo, inplace = True)\n",
    "frecuencia.rename(columns = color, inplace = True)\n",
    "frecuencia"
   ]
  },
  {
   "cell_type": "code",
   "execution_count": 21,
   "metadata": {
    "id": "fjWVuepjSy_f"
   },
   "outputs": [
    {
     "data": {
      "text/html": [
       "<div>\n",
       "<style scoped>\n",
       "    .dataframe tbody tr th:only-of-type {\n",
       "        vertical-align: middle;\n",
       "    }\n",
       "\n",
       "    .dataframe tbody tr th {\n",
       "        vertical-align: top;\n",
       "    }\n",
       "\n",
       "    .dataframe thead th {\n",
       "        text-align: right;\n",
       "    }\n",
       "</style>\n",
       "<table border=\"1\" class=\"dataframe\">\n",
       "  <thead>\n",
       "    <tr style=\"text-align: right;\">\n",
       "      <th>Color</th>\n",
       "      <th>0</th>\n",
       "      <th>2</th>\n",
       "      <th>4</th>\n",
       "      <th>6</th>\n",
       "      <th>8</th>\n",
       "    </tr>\n",
       "    <tr>\n",
       "      <th>Sexo</th>\n",
       "      <th></th>\n",
       "      <th></th>\n",
       "      <th></th>\n",
       "      <th></th>\n",
       "      <th></th>\n",
       "    </tr>\n",
       "  </thead>\n",
       "  <tbody>\n",
       "    <tr>\n",
       "      <th>0</th>\n",
       "      <td>0.33</td>\n",
       "      <td>28.88</td>\n",
       "      <td>7.16</td>\n",
       "      <td>0.31</td>\n",
       "      <td>32.62</td>\n",
       "    </tr>\n",
       "    <tr>\n",
       "      <th>1</th>\n",
       "      <td>0.13</td>\n",
       "      <td>12.52</td>\n",
       "      <td>3.76</td>\n",
       "      <td>0.15</td>\n",
       "      <td>14.14</td>\n",
       "    </tr>\n",
       "  </tbody>\n",
       "</table>\n",
       "</div>"
      ],
      "text/plain": [
       "Color     0      2     4     6      8\n",
       "Sexo                                 \n",
       "0      0.33  28.88  7.16  0.31  32.62\n",
       "1      0.13  12.52  3.76  0.15  14.14"
      ]
     },
     "execution_count": 21,
     "metadata": {},
     "output_type": "execute_result"
    }
   ],
   "source": [
    "# porcentaje\n",
    "\n",
    "frecuencia_porc = pd.crosstab(datos.Sexo,\n",
    "                    datos.Color,\n",
    "                    normalize = True).round(4) * 100\n",
    "frecuencia_porc"
   ]
  },
  {
   "cell_type": "code",
   "execution_count": 22,
   "metadata": {
    "id": "ufvEIQwzR_We"
   },
   "outputs": [
    {
     "data": {
      "text/html": [
       "<div>\n",
       "<style scoped>\n",
       "    .dataframe tbody tr th:only-of-type {\n",
       "        vertical-align: middle;\n",
       "    }\n",
       "\n",
       "    .dataframe tbody tr th {\n",
       "        vertical-align: top;\n",
       "    }\n",
       "\n",
       "    .dataframe thead th {\n",
       "        text-align: right;\n",
       "    }\n",
       "</style>\n",
       "<table border=\"1\" class=\"dataframe\">\n",
       "  <thead>\n",
       "    <tr style=\"text-align: right;\">\n",
       "      <th>Color</th>\n",
       "      <th>Indigena</th>\n",
       "      <th>Blanco</th>\n",
       "      <th>Negro</th>\n",
       "      <th>Amarillo</th>\n",
       "      <th>Pardo</th>\n",
       "    </tr>\n",
       "    <tr>\n",
       "      <th>Sexo</th>\n",
       "      <th></th>\n",
       "      <th></th>\n",
       "      <th></th>\n",
       "      <th></th>\n",
       "      <th></th>\n",
       "    </tr>\n",
       "  </thead>\n",
       "  <tbody>\n",
       "    <tr>\n",
       "      <th>Masculino</th>\n",
       "      <td>0.33</td>\n",
       "      <td>28.88</td>\n",
       "      <td>7.16</td>\n",
       "      <td>0.31</td>\n",
       "      <td>32.62</td>\n",
       "    </tr>\n",
       "    <tr>\n",
       "      <th>Femenino</th>\n",
       "      <td>0.13</td>\n",
       "      <td>12.52</td>\n",
       "      <td>3.76</td>\n",
       "      <td>0.15</td>\n",
       "      <td>14.14</td>\n",
       "    </tr>\n",
       "  </tbody>\n",
       "</table>\n",
       "</div>"
      ],
      "text/plain": [
       "Color      Indigena  Blanco  Negro  Amarillo  Pardo\n",
       "Sexo                                               \n",
       "Masculino      0.33   28.88   7.16      0.31  32.62\n",
       "Femenino       0.13   12.52   3.76      0.15  14.14"
      ]
     },
     "execution_count": 22,
     "metadata": {},
     "output_type": "execute_result"
    }
   ],
   "source": [
    "# renombrar\n",
    "\n",
    "frecuencia_porc.rename(index = sexo, inplace = True)\n",
    "frecuencia_porc.rename(columns = color, inplace = True)\n",
    "frecuencia_porc"
   ]
  },
  {
   "cell_type": "markdown",
   "metadata": {
    "id": "eaXQUxnXjQLa"
   },
   "source": [
    "## <font color=#56B4E9>2.2 Distribución de frecuencia para variables cuantitativas (clases personalizadas)</font>\n",
    "***"
   ]
  },
  {
   "cell_type": "markdown",
   "metadata": {
    "id": "wxsSD-VVjQLb"
   },
   "source": [
    "### Paso 1 - Especifique los límites de cada clase\n",
    "\n",
    "Utilice la siguiente clasificación:\n",
    "\n",
    "<b>A</b> ► Más de 20 SM\n",
    "\n",
    "<b>B</b> ► De 10 a 20 SM\n",
    "\n",
    "<b>C</b> ► De 4 a 10 SM\n",
    "\n",
    "<b>D</b> ► De 2 a 4 SM\n",
    "\n",
    "<b>E</b> ► Hasta 2 SM\n",
    "\n",
    "donde <b>SM</b> es el valor del salario mínimo en ese momento. En nuestro caso <b>788 mil pesos colombianos</b> (2018):\n",
    "\n",
    "<b>A</b> ► Más de 15.760\n",
    "\n",
    "<b>B</b> ► De 7.880 a 15.760\n",
    "\n",
    "<b>C</b> ► De 3.152 a 7.880\n",
    "\n",
    "<b>D</b> ► De 1.576 a 3.152\n",
    "\n",
    "<b>E</b> ► Hasta 1.576\n"
   ]
  },
  {
   "cell_type": "code",
   "execution_count": 23,
   "metadata": {
    "id": "3wfvyVjSSt9l"
   },
   "outputs": [
    {
     "data": {
      "text/plain": [
       "0"
      ]
     },
     "execution_count": 23,
     "metadata": {},
     "output_type": "execute_result"
    }
   ],
   "source": [
    "datos.Ingreso.min()"
   ]
  },
  {
   "cell_type": "code",
   "execution_count": 24,
   "metadata": {
    "id": "kM29GuH3SuOq"
   },
   "outputs": [
    {
     "data": {
      "text/plain": [
       "200000"
      ]
     },
     "execution_count": 24,
     "metadata": {},
     "output_type": "execute_result"
    }
   ],
   "source": [
    "datos.Ingreso.max()"
   ]
  },
  {
   "cell_type": "code",
   "execution_count": 25,
   "metadata": {
    "id": "ED7UtF1-SuKP"
   },
   "outputs": [
    {
     "data": {
      "text/plain": [
       "[0, 1.576, 3.152, 7.88, 15.76, 200000]"
      ]
     },
     "execution_count": 25,
     "metadata": {},
     "output_type": "execute_result"
    }
   ],
   "source": [
    "clases = [0, 1.576, 3.152, 7.880, 15.760, 200000]\n",
    "clases"
   ]
  },
  {
   "cell_type": "code",
   "execution_count": 26,
   "metadata": {
    "id": "HZc3g2swSuEu"
   },
   "outputs": [
    {
     "data": {
      "text/plain": [
       "['E', 'D', 'C', 'B', 'A']"
      ]
     },
     "execution_count": 26,
     "metadata": {},
     "output_type": "execute_result"
    }
   ],
   "source": [
    "label = ['E', 'D', 'C', 'B', 'A']\n",
    "label"
   ]
  },
  {
   "cell_type": "markdown",
   "metadata": {
    "id": "IQhlvrQUjQLk"
   },
   "source": [
    "### Paso 2 - Crear la tabla de frecuencias"
   ]
  },
  {
   "cell_type": "markdown",
   "metadata": {
    "id": "Uy3fH4IxX7Hc"
   },
   "source": [
    "https://pandas.pydata.org/pandas-docs/version/0.22/generated/pandas.cut.html"
   ]
  },
  {
   "cell_type": "code",
   "execution_count": 27,
   "metadata": {
    "id": "Qu0VaFyJsHIW"
   },
   "outputs": [
    {
     "data": {
      "text/plain": [
       "45517    A\n",
       "39152    A\n",
       "63539    A\n",
       "44789    A\n",
       "60265    A\n",
       "25162    A\n",
       "18460    A\n",
       "64029    A\n",
       "50876    A\n",
       "34199    A\n",
       "Name: Ingreso, dtype: category\n",
       "Categories (5, object): ['E' < 'D' < 'C' < 'B' < 'A']"
      ]
     },
     "execution_count": 27,
     "metadata": {},
     "output_type": "execute_result"
    }
   ],
   "source": [
    "# creamos tabla de frecuencia\n",
    "\n",
    "frecuencia_ingreso = pd.cut(x = datos.Ingreso,\n",
    "                            bins = clases,\n",
    "                            labels = label,\n",
    "                            include_lowest = True)\n",
    "frecuencia_ingreso.sample(10)"
   ]
  },
  {
   "cell_type": "code",
   "execution_count": 28,
   "metadata": {
    "id": "GiT7XVYxSlj7"
   },
   "outputs": [
    {
     "name": "stderr",
     "output_type": "stream",
     "text": [
      "C:\\Users\\rrs23\\AppData\\Local\\Temp\\ipykernel_18244\\419590546.py:3: FutureWarning: pandas.value_counts is deprecated and will be removed in a future version. Use pd.Series(obj).value_counts() instead.\n",
      "  frecuencia_ingreso = pd.value_counts (pd.cut(x = datos.Ingreso,\n"
     ]
    },
    {
     "data": {
      "text/plain": [
       "Ingreso\n",
       "A    73947\n",
       "E     2867\n",
       "B       24\n",
       "C        2\n",
       "D        0\n",
       "Name: count, dtype: int64"
      ]
     },
     "execution_count": 28,
     "metadata": {},
     "output_type": "execute_result"
    }
   ],
   "source": [
    "# creamos tabla de frecuencia conteo general\n",
    "\n",
    "frecuencia_ingreso = pd.value_counts (pd.cut(x = datos.Ingreso,\n",
    "                            bins = clases,\n",
    "                            labels = label,\n",
    "                            include_lowest = True))\n",
    "frecuencia_ingreso"
   ]
  },
  {
   "cell_type": "code",
   "execution_count": 29,
   "metadata": {
    "id": "au1SQWcHSl2c"
   },
   "outputs": [
    {
     "data": {
      "text/plain": [
       "Ingreso\n",
       "A    73947\n",
       "E     2867\n",
       "B       24\n",
       "C        2\n",
       "D        0\n",
       "Name: count, dtype: int64"
      ]
     },
     "execution_count": 29,
     "metadata": {},
     "output_type": "execute_result"
    }
   ],
   "source": [
    "# otra forma \n",
    "# Crear tabla de frecuencia con conteo general (frecuencia absoluta)\n",
    "frecuencia_ingreso = pd.cut(x=datos.Ingreso,\n",
    "                            bins=clases,\n",
    "                            labels=label,\n",
    "                            include_lowest=True).value_counts(sort=True)\n",
    "\n",
    "frecuencia_ingreso"
   ]
  },
  {
   "cell_type": "code",
   "execution_count": 30,
   "metadata": {
    "id": "E4lpAY9ySlxR"
   },
   "outputs": [
    {
     "data": {
      "text/plain": [
       "Ingreso\n",
       "A    96.235\n",
       "E     3.731\n",
       "B     0.031\n",
       "C     0.003\n",
       "D     0.000\n",
       "Name: proportion, dtype: float64"
      ]
     },
     "execution_count": 30,
     "metadata": {},
     "output_type": "execute_result"
    }
   ],
   "source": [
    "# porcentaje\n",
    "\n",
    "porcentaje_ingreso = pd.cut(x = datos.Ingreso,\n",
    "                            bins = clases,\n",
    "                            labels = label,\n",
    "                            include_lowest = True).value_counts(sort = True, normalize = True).round(5) * 100\n",
    "porcentaje_ingreso"
   ]
  },
  {
   "cell_type": "markdown",
   "metadata": {
    "id": "ViJYvvjujQLu"
   },
   "source": [
    "## <font color=#56B4E9>2.3 Distribución de frecuencia para variables cuantitativas (clases de amplitud fija)</font>\n",
    "***"
   ]
  },
  {
   "cell_type": "markdown",
   "metadata": {
    "id": "02ve2BVojQLv"
   },
   "source": [
    "### Importando bibliotecas\n",
    "\n",
    "http://www.numpy.org/"
   ]
  },
  {
   "cell_type": "code",
   "execution_count": 31,
   "metadata": {
    "id": "9G-ghdqLSgd6"
   },
   "outputs": [],
   "source": [
    "import numpy as np"
   ]
  },
  {
   "cell_type": "markdown",
   "metadata": {
    "id": "s9UGNaMzjQLy"
   },
   "source": [
    "### Paso 1 - Difiniendo el número de clases"
   ]
  },
  {
   "cell_type": "markdown",
   "metadata": {
    "id": "p268tvNHjQLy"
   },
   "source": [
    "#### Regla de Sturges\n",
    "\n",
    "# $$k = 1 + \\frac {10}{3}\\log_{10}n$$"
   ]
  },
  {
   "cell_type": "code",
   "execution_count": 32,
   "metadata": {
    "id": "9sfBr2x5Scl_"
   },
   "outputs": [],
   "source": [
    "# calcular el tamo de la base de datos\n",
    "\n",
    "n = datos.shape[0]"
   ]
  },
  {
   "cell_type": "code",
   "execution_count": 33,
   "metadata": {
    "id": "-balkNhYSc4J"
   },
   "outputs": [
    {
     "data": {
      "text/plain": [
       "17.285291187298853"
      ]
     },
     "execution_count": 33,
     "metadata": {},
     "output_type": "execute_result"
    }
   ],
   "source": [
    "# regla de sturges\n",
    "\n",
    "k = 1 + (10/3) * np.log10(n)\n",
    "k"
   ]
  },
  {
   "cell_type": "code",
   "execution_count": null,
   "metadata": {
    "id": "IgISxeiqSdNZ"
   },
   "outputs": [],
   "source": []
  },
  {
   "cell_type": "markdown",
   "metadata": {
    "id": "5eO-RhaljQL6"
   },
   "source": [
    "### Paso 2 - Crear la tabla de frecuencias"
   ]
  },
  {
   "cell_type": "code",
   "execution_count": 34,
   "metadata": {
    "id": "VmXexir_SUjZ"
   },
   "outputs": [
    {
     "data": {
      "text/plain": [
       "Ingreso\n",
       "(-200.001, 11764.706]       75594\n",
       "(11764.706, 23529.412]       1022\n",
       "(23529.412, 35294.118]        169\n",
       "(35294.118, 47058.824]         19\n",
       "(47058.824, 58823.529]         16\n",
       "(58823.529, 70588.235]          5\n",
       "(70588.235, 82352.941]          4\n",
       "(82352.941, 94117.647]          1\n",
       "(94117.647, 105882.353]         6\n",
       "(105882.353, 117647.059]        0\n",
       "(117647.059, 129411.765]        1\n",
       "(129411.765, 141176.471]        0\n",
       "(141176.471, 152941.176]        0\n",
       "(152941.176, 164705.882]        0\n",
       "(164705.882, 176470.588]        0\n",
       "(176470.588, 188235.294]        0\n",
       "(188235.294, 200000.0]          3\n",
       "Name: count, dtype: int64"
      ]
     },
     "execution_count": 34,
     "metadata": {},
     "output_type": "execute_result"
    }
   ],
   "source": [
    "# crear la frecuencia\n",
    "\n",
    "frecuencia_sturges = pd.cut(x=datos.Ingreso,\n",
    "                            bins=17,\n",
    "                            include_lowest=True).value_counts(sort=False)\n",
    "\n",
    "frecuencia_sturges"
   ]
  },
  {
   "cell_type": "code",
   "execution_count": 35,
   "metadata": {},
   "outputs": [
    {
     "data": {
      "text/plain": [
       "Ingreso\n",
       "(-200.001, 11764.706]       98.378\n",
       "(11764.706, 23529.412]       1.330\n",
       "(23529.412, 35294.118]       0.220\n",
       "(35294.118, 47058.824]       0.025\n",
       "(47058.824, 58823.529]       0.021\n",
       "(58823.529, 70588.235]       0.007\n",
       "(70588.235, 82352.941]       0.005\n",
       "(82352.941, 94117.647]       0.001\n",
       "(94117.647, 105882.353]      0.008\n",
       "(105882.353, 117647.059]     0.000\n",
       "(117647.059, 129411.765]     0.001\n",
       "(129411.765, 141176.471]     0.000\n",
       "(141176.471, 152941.176]     0.000\n",
       "(152941.176, 164705.882]     0.000\n",
       "(164705.882, 176470.588]     0.000\n",
       "(176470.588, 188235.294]     0.000\n",
       "(188235.294, 200000.0]       0.004\n",
       "Name: proportion, dtype: float64"
      ]
     },
     "execution_count": 35,
     "metadata": {},
     "output_type": "execute_result"
    }
   ],
   "source": [
    "# porcentaje\n",
    "\n",
    "porcentaje_sturges = pd.cut(x = datos.Ingreso,\n",
    "                            bins = 17,\n",
    "                            include_lowest = True).value_counts(\n",
    "                                normalize = True,\n",
    "                                sort = False).round(5) * 100\n",
    "\n",
    "porcentaje_sturges"
   ]
  },
  {
   "cell_type": "code",
   "execution_count": 36,
   "metadata": {},
   "outputs": [
    {
     "data": {
      "text/html": [
       "<div>\n",
       "<style scoped>\n",
       "    .dataframe tbody tr th:only-of-type {\n",
       "        vertical-align: middle;\n",
       "    }\n",
       "\n",
       "    .dataframe tbody tr th {\n",
       "        vertical-align: top;\n",
       "    }\n",
       "\n",
       "    .dataframe thead th {\n",
       "        text-align: right;\n",
       "    }\n",
       "</style>\n",
       "<table border=\"1\" class=\"dataframe\">\n",
       "  <thead>\n",
       "    <tr style=\"text-align: right;\">\n",
       "      <th></th>\n",
       "      <th>Frecuencia</th>\n",
       "      <th>Porcentaje %</th>\n",
       "    </tr>\n",
       "    <tr>\n",
       "      <th>Ingreso</th>\n",
       "      <th></th>\n",
       "      <th></th>\n",
       "    </tr>\n",
       "  </thead>\n",
       "  <tbody>\n",
       "    <tr>\n",
       "      <th>(188235.294, 200000.0]</th>\n",
       "      <td>3</td>\n",
       "      <td>0.004</td>\n",
       "    </tr>\n",
       "    <tr>\n",
       "      <th>(176470.588, 188235.294]</th>\n",
       "      <td>0</td>\n",
       "      <td>0.000</td>\n",
       "    </tr>\n",
       "    <tr>\n",
       "      <th>(164705.882, 176470.588]</th>\n",
       "      <td>0</td>\n",
       "      <td>0.000</td>\n",
       "    </tr>\n",
       "    <tr>\n",
       "      <th>(152941.176, 164705.882]</th>\n",
       "      <td>0</td>\n",
       "      <td>0.000</td>\n",
       "    </tr>\n",
       "    <tr>\n",
       "      <th>(141176.471, 152941.176]</th>\n",
       "      <td>0</td>\n",
       "      <td>0.000</td>\n",
       "    </tr>\n",
       "    <tr>\n",
       "      <th>(129411.765, 141176.471]</th>\n",
       "      <td>0</td>\n",
       "      <td>0.000</td>\n",
       "    </tr>\n",
       "    <tr>\n",
       "      <th>(117647.059, 129411.765]</th>\n",
       "      <td>1</td>\n",
       "      <td>0.001</td>\n",
       "    </tr>\n",
       "    <tr>\n",
       "      <th>(105882.353, 117647.059]</th>\n",
       "      <td>0</td>\n",
       "      <td>0.000</td>\n",
       "    </tr>\n",
       "    <tr>\n",
       "      <th>(94117.647, 105882.353]</th>\n",
       "      <td>6</td>\n",
       "      <td>0.008</td>\n",
       "    </tr>\n",
       "    <tr>\n",
       "      <th>(82352.941, 94117.647]</th>\n",
       "      <td>1</td>\n",
       "      <td>0.001</td>\n",
       "    </tr>\n",
       "    <tr>\n",
       "      <th>(70588.235, 82352.941]</th>\n",
       "      <td>4</td>\n",
       "      <td>0.005</td>\n",
       "    </tr>\n",
       "    <tr>\n",
       "      <th>(58823.529, 70588.235]</th>\n",
       "      <td>5</td>\n",
       "      <td>0.007</td>\n",
       "    </tr>\n",
       "    <tr>\n",
       "      <th>(47058.824, 58823.529]</th>\n",
       "      <td>16</td>\n",
       "      <td>0.021</td>\n",
       "    </tr>\n",
       "    <tr>\n",
       "      <th>(35294.118, 47058.824]</th>\n",
       "      <td>19</td>\n",
       "      <td>0.025</td>\n",
       "    </tr>\n",
       "    <tr>\n",
       "      <th>(23529.412, 35294.118]</th>\n",
       "      <td>169</td>\n",
       "      <td>0.220</td>\n",
       "    </tr>\n",
       "    <tr>\n",
       "      <th>(11764.706, 23529.412]</th>\n",
       "      <td>1022</td>\n",
       "      <td>1.330</td>\n",
       "    </tr>\n",
       "    <tr>\n",
       "      <th>(-200.001, 11764.706]</th>\n",
       "      <td>75594</td>\n",
       "      <td>98.378</td>\n",
       "    </tr>\n",
       "  </tbody>\n",
       "</table>\n",
       "</div>"
      ],
      "text/plain": [
       "                          Frecuencia  Porcentaje %\n",
       "Ingreso                                           \n",
       "(188235.294, 200000.0]             3         0.004\n",
       "(176470.588, 188235.294]           0         0.000\n",
       "(164705.882, 176470.588]           0         0.000\n",
       "(152941.176, 164705.882]           0         0.000\n",
       "(141176.471, 152941.176]           0         0.000\n",
       "(129411.765, 141176.471]           0         0.000\n",
       "(117647.059, 129411.765]           1         0.001\n",
       "(105882.353, 117647.059]           0         0.000\n",
       "(94117.647, 105882.353]            6         0.008\n",
       "(82352.941, 94117.647]             1         0.001\n",
       "(70588.235, 82352.941]             4         0.005\n",
       "(58823.529, 70588.235]             5         0.007\n",
       "(47058.824, 58823.529]            16         0.021\n",
       "(35294.118, 47058.824]            19         0.025\n",
       "(23529.412, 35294.118]           169         0.220\n",
       "(11764.706, 23529.412]          1022         1.330\n",
       "(-200.001, 11764.706]          75594        98.378"
      ]
     },
     "execution_count": 36,
     "metadata": {},
     "output_type": "execute_result"
    }
   ],
   "source": [
    "# crear la tabla\n",
    "\n",
    "dist_frec_cuant_amplitud_fija = pd.DataFrame({'Frecuencia': frecuencia_sturges, 'Porcentaje %': porcentaje_sturges})\n",
    "\n",
    "dist_frec_cuant_amplitud_fija.sort_index(ascending = False)"
   ]
  },
  {
   "cell_type": "markdown",
   "metadata": {
    "id": "Js9iLwNkjQME"
   },
   "source": [
    "## <font color=#56B4E9>2.4 Histograma</font>\n",
    "***\n",
    "\n",
    "El <b>HISTOGRAMA</b> es la representación gráfica de una distribución de frecuencia. Es un gráfico formado por un conjunto de rectángulos colocados uno al lado del otro, donde el área de cada rectángulo es proporcional a la frecuencia de la clase que representa."
   ]
  },
  {
   "cell_type": "markdown",
   "metadata": {
    "id": "VzZEXDKX3PUH"
   },
   "source": [
    "### Importando la biblioteca\n",
    "\n",
    "https://seaborn.pydata.org/"
   ]
  },
  {
   "cell_type": "code",
   "execution_count": 37,
   "metadata": {
    "id": "-q72Gu-LSOyT"
   },
   "outputs": [],
   "source": [
    "import seaborn as sns\n",
    "import matplotlib.pyplot as plt"
   ]
  },
  {
   "cell_type": "code",
   "execution_count": 38,
   "metadata": {
    "id": "S5kUiwm6SPHO"
   },
   "outputs": [
    {
     "name": "stderr",
     "output_type": "stream",
     "text": [
      "C:\\Users\\rrs23\\AppData\\Local\\Temp\\ipykernel_18244\\3110643445.py:3: UserWarning: \n",
      "\n",
      "`distplot` is a deprecated function and will be removed in seaborn v0.14.0.\n",
      "\n",
      "Please adapt your code to use either `displot` (a figure-level function with\n",
      "similar flexibility) or `histplot` (an axes-level function for histograms).\n",
      "\n",
      "For a guide to updating your code to use the new functions, please see\n",
      "https://gist.github.com/mwaskom/de44147ed2974457ad6372750bbe5751\n",
      "\n",
      "  ax = sns.distplot(datos.Altura, kde=False)\n"
     ]
    },
    {
     "data": {
      "text/plain": [
       "<Axes: title={'center': 'Histograma de Altura'}, xlabel='Altura (m)'>"
      ]
     },
     "execution_count": 38,
     "metadata": {},
     "output_type": "execute_result"
    },
    {
     "data": {
      "image/png": "[encoded data removed]",
      "text/plain": [
       "<Figure size 1200x600 with 1 Axes>"
      ]
     },
     "metadata": {},
     "output_type": "display_data"
    }
   ],
   "source": [
    "# hacer histograma\n",
    "\n",
    "ax = sns.distplot(datos.Altura, kde=False)\n",
    "\n",
    "ax.figure.set_size_inches(12, 6)\n",
    "ax.set_title('Histograma de Altura', fontsize=18)\n",
    "ax.set_xlabel('Altura (m)', fontsize=16)\n",
    "ax"
   ]
  },
  {
   "cell_type": "code",
   "execution_count": 39,
   "metadata": {
    "id": "3wOdGYB2SPSx"
   },
   "outputs": [
    {
     "name": "stderr",
     "output_type": "stream",
     "text": [
      "C:\\Users\\rrs23\\AppData\\Local\\Temp\\ipykernel_18244\\733550407.py:3: UserWarning: \n",
      "\n",
      "`distplot` is a deprecated function and will be removed in seaborn v0.14.0.\n",
      "\n",
      "Please adapt your code to use either `displot` (a figure-level function with\n",
      "similar flexibility) or `histplot` (an axes-level function for histograms).\n",
      "\n",
      "For a guide to updating your code to use the new functions, please see\n",
      "https://gist.github.com/mwaskom/de44147ed2974457ad6372750bbe5751\n",
      "\n",
      "  ax = sns.distplot(datos.Altura, kde=True)\n"
     ]
    },
    {
     "data": {
      "text/plain": [
       "<Axes: title={'center': 'Histograma de Altura'}, xlabel='Altura (m)', ylabel='Density'>"
      ]
     },
     "execution_count": 39,
     "metadata": {},
     "output_type": "execute_result"
    },
    {
     "data": {
      "image/png": "[encoded data removed]",
      "text/plain": [
       "<Figure size 1200x600 with 1 Axes>"
      ]
     },
     "metadata": {},
     "output_type": "display_data"
    }
   ],
   "source": [
    "# hacer histograma\n",
    "\n",
    "ax = sns.distplot(datos.Altura, kde=True)\n",
    "\n",
    "ax.figure.set_size_inches(12, 6)\n",
    "ax.set_title('Histograma de Altura', fontsize=18)\n",
    "ax.set_xlabel('Altura (m)', fontsize=16)\n",
    "ax"
   ]
  },
  {
   "cell_type": "code",
   "execution_count": 40,
   "metadata": {},
   "outputs": [
    {
     "data": {
      "text/plain": [
       "<Axes: title={'center': 'Histograma de Altura'}, xlabel='Altura (m)', ylabel='Count'>"
      ]
     },
     "execution_count": 40,
     "metadata": {},
     "output_type": "execute_result"
    },
    {
     "data": {
      "image/png": "[encoded data removed]",
      "text/plain": [
       "<Figure size 1200x600 with 1 Axes>"
      ]
     },
     "metadata": {},
     "output_type": "display_data"
    }
   ],
   "source": [
    "ax = sns.histplot(datos.Altura, kde=True)\n",
    "\n",
    "# Ajustar tamaño y etiquetas\n",
    "ax.figure.set_size_inches(12, 6)\n",
    "ax.set_title('Histograma de Altura', fontsize=18)\n",
    "ax.set_xlabel('Altura (m)', fontsize=16)\n",
    "\n",
    "ax"
   ]
  },
  {
   "cell_type": "markdown",
   "metadata": {
    "id": "uIb17Es3jQMP"
   },
   "source": [
    "# <font color=#56B4E9>3 MEDIDAS DE TENDENCIA CENTRAL</font>\n",
    "***"
   ]
  },
  {
   "cell_type": "markdown",
   "metadata": {
    "id": "Wrya4suEX7H-"
   },
   "source": [
    "## DataFrame de ejemplo"
   ]
  },
  {
   "cell_type": "code",
   "execution_count": 41,
   "metadata": {
    "colab": {
     "base_uri": "https://localhost:8080/",
     "height": 269
    },
    "id": "jj7a21flX7H_",
    "outputId": "7c522382-7450-4490-a3f3-5ebbcd1eccf4"
   },
   "outputs": [
    {
     "data": {
      "text/html": [
       "<div>\n",
       "<style scoped>\n",
       "    .dataframe tbody tr th:only-of-type {\n",
       "        vertical-align: middle;\n",
       "    }\n",
       "\n",
       "    .dataframe tbody tr th {\n",
       "        vertical-align: top;\n",
       "    }\n",
       "\n",
       "    .dataframe thead th {\n",
       "        text-align: right;\n",
       "    }\n",
       "</style>\n",
       "<table border=\"1\" class=\"dataframe\">\n",
       "  <thead>\n",
       "    <tr style=\"text-align: right;\">\n",
       "      <th>Asignaturas</th>\n",
       "      <th>María</th>\n",
       "      <th>Pedro</th>\n",
       "      <th>Pablo</th>\n",
       "    </tr>\n",
       "  </thead>\n",
       "  <tbody>\n",
       "    <tr>\n",
       "      <th>Matemática</th>\n",
       "      <td>8</td>\n",
       "      <td>10.0</td>\n",
       "      <td>7.5</td>\n",
       "    </tr>\n",
       "    <tr>\n",
       "      <th>Portugués</th>\n",
       "      <td>10</td>\n",
       "      <td>2.0</td>\n",
       "      <td>8.0</td>\n",
       "    </tr>\n",
       "    <tr>\n",
       "      <th>Inglés</th>\n",
       "      <td>4</td>\n",
       "      <td>0.5</td>\n",
       "      <td>7.0</td>\n",
       "    </tr>\n",
       "    <tr>\n",
       "      <th>Geografía</th>\n",
       "      <td>8</td>\n",
       "      <td>1.0</td>\n",
       "      <td>8.0</td>\n",
       "    </tr>\n",
       "    <tr>\n",
       "      <th>Historia</th>\n",
       "      <td>6</td>\n",
       "      <td>3.0</td>\n",
       "      <td>8.0</td>\n",
       "    </tr>\n",
       "    <tr>\n",
       "      <th>Física</th>\n",
       "      <td>10</td>\n",
       "      <td>9.5</td>\n",
       "      <td>8.5</td>\n",
       "    </tr>\n",
       "    <tr>\n",
       "      <th>Química</th>\n",
       "      <td>8</td>\n",
       "      <td>10.0</td>\n",
       "      <td>7.0</td>\n",
       "    </tr>\n",
       "  </tbody>\n",
       "</table>\n",
       "</div>"
      ],
      "text/plain": [
       "Asignaturas  María  Pedro  Pablo\n",
       "Matemática       8   10.0    7.5\n",
       "Portugués       10    2.0    8.0\n",
       "Inglés           4    0.5    7.0\n",
       "Geografía        8    1.0    8.0\n",
       "Historia         6    3.0    8.0\n",
       "Física          10    9.5    8.5\n",
       "Química          8   10.0    7.0"
      ]
     },
     "execution_count": 41,
     "metadata": {},
     "output_type": "execute_result"
    }
   ],
   "source": [
    "df = pd.DataFrame(data = {'María': [8, 10, 4, 8, 6, 10, 8],\n",
    "                          'Pedro': [10, 2, 0.5, 1, 3, 9.5, 10],\n",
    "                          'Pablo': [7.5, 8, 7, 8, 8, 8.5, 7]},\n",
    "                  index = ['Matemática',\n",
    "                           'Portugués',\n",
    "                           'Inglés',\n",
    "                           'Geografía',\n",
    "                           'Historia',\n",
    "                           'Física',\n",
    "                           'Química'])\n",
    "df.rename_axis('Asignaturas', axis = 'columns', inplace = True)\n",
    "df"
   ]
  },
  {
   "cell_type": "markdown",
   "metadata": {
    "id": "kcHJFW-YjQMP"
   },
   "source": [
    "## <font color=#56B4E9>3.1 Media aritmética</font>\n",
    "***\n",
    "\n",
    "Es representada por $\\mu$ cuando se refiere a la población y por $\\bar{X}$ cuando se refiere a la muestra\n",
    "\n",
    "# $$\\mu = \\frac 1n\\sum_{i=1}^{n}X_i$$\n",
    "\n",
    "donde\n",
    "\n",
    "$n$ = número de observaciones (registros)\n",
    "\n",
    "$X_i$ = valor de la i-ésima observación (registro)"
   ]
  },
  {
   "cell_type": "code",
   "execution_count": 42,
   "metadata": {
    "id": "oUA9IHCpAP7w"
   },
   "outputs": [
    {
     "data": {
      "text/plain": [
       "7.714285714285714"
      ]
     },
     "execution_count": 42,
     "metadata": {},
     "output_type": "execute_result"
    }
   ],
   "source": [
    "# calcular la media de valores \n",
    "\n",
    "(8 + 10 + 4 + 8 + 6 + 10 + 8) / 7"
   ]
  },
  {
   "cell_type": "code",
   "execution_count": 43,
   "metadata": {
    "id": "uUXFXlwvRFBR"
   },
   "outputs": [
    {
     "data": {
      "text/plain": [
       "7.714285714285714"
      ]
     },
     "execution_count": 43,
     "metadata": {},
     "output_type": "execute_result"
    }
   ],
   "source": [
    "# funcion para la media\n",
    "\n",
    "df['María'].mean()"
   ]
  },
  {
   "cell_type": "code",
   "execution_count": 44,
   "metadata": {
    "id": "pZpnYJLKRFSI"
   },
   "outputs": [
    {
     "data": {
      "text/plain": [
       "Sexo\n",
       "0    2192.441596\n",
       "1    1566.847393\n",
       "Name: Ingreso, dtype: float64"
      ]
     },
     "execution_count": 44,
     "metadata": {},
     "output_type": "execute_result"
    }
   ],
   "source": [
    "# media por los sexos de las personas que ingresan\n",
    "\n",
    "datos.groupby(['Sexo'])['Ingreso'].mean()"
   ]
  },
  {
   "cell_type": "code",
   "execution_count": null,
   "metadata": {},
   "outputs": [],
   "source": []
  },
  {
   "cell_type": "markdown",
   "metadata": {
    "id": "9geu3UcKjQMS"
   },
   "source": [
    "## <font color=#56B4E9>3.2 Mediana</font>\n",
    "***\n",
    "\n",
    "Para obtener la mediana de un conjunto de datos, debemos proceder de la siguiente manera:\n",
    "1. Ordenar el conjunto de datos;\n",
    "2. Identificar el número de observaciones (registros) del conjunto de datos ($n$);\n",
    "3. Identicar el elemento del medio:\n",
    "\n",
    "> Cuando $n$ sea impar, la posición del elemento del medio se obtendrá de la siguiente manera:\n",
    "\n",
    "\n",
    "# $$Elemento_{Md} = \\frac{n+1}{2}$$\n",
    "\n",
    "> Cuando $n$ sea par, la posición del elemento mediano se obtendrá de la siguiente manera:\n",
    "\n",
    "\n",
    "# $$Elemento_{Md} = \\frac{n}2$$\n",
    "\n",
    "4. Obtener la mediana:\n",
    "\n",
    "> Cuando $n$ sea impar:\n",
    "\n",
    "\n",
    "# $$Md = X_{Elemento_{Md}}$$\n",
    "\n",
    "> Cuando $n$ sea par:\n",
    "\n",
    "\n",
    "# $$Md = \\frac{X_{Elemento_{Md}} + X_{Elemento_{Md}+1}}2$$\n",
    "***"
   ]
  },
  {
   "cell_type": "markdown",
   "metadata": {
    "id": "e0IuYdJFjQMT"
   },
   "source": [
    "### Ejemplo 1 - n impar\n",
    "\n",
    "<img src='https://caelum-online-public.s3.amazonaws.com/ESP-1752-estadistica-con-python-parte1/img002.png' width='40%' style=\"float:left\">"
   ]
  },
  {
   "cell_type": "code",
   "execution_count": 45,
   "metadata": {
    "id": "BQJNnx-BQ8hO"
   },
   "outputs": [
    {
     "data": {
      "text/plain": [
       "Matemática     8\n",
       "Portugués     10\n",
       "Inglés         4\n",
       "Geografía      8\n",
       "Historia       6\n",
       "Física        10\n",
       "Química        8\n",
       "Name: María, dtype: int64"
      ]
     },
     "execution_count": 45,
     "metadata": {},
     "output_type": "execute_result"
    }
   ],
   "source": [
    "# notas de maria\n",
    "\n",
    "notas_maria = df['María']\n",
    "notas_maria"
   ]
  },
  {
   "cell_type": "code",
   "execution_count": 46,
   "metadata": {
    "id": "bIKoxh1WQ8yZ"
   },
   "outputs": [
    {
     "data": {
      "text/plain": [
       "Inglés         4\n",
       "Historia       6\n",
       "Matemática     8\n",
       "Geografía      8\n",
       "Química        8\n",
       "Portugués     10\n",
       "Física        10\n",
       "Name: María, dtype: int64"
      ]
     },
     "execution_count": 46,
     "metadata": {},
     "output_type": "execute_result"
    }
   ],
   "source": [
    "# ordenar las notas de maria\n",
    "\n",
    "notas_maria = df['María']\n",
    "notas_maria = notas_maria.sort_values()\n",
    "notas_maria"
   ]
  },
  {
   "cell_type": "code",
   "execution_count": 47,
   "metadata": {
    "id": "FQVswX_jQ87L"
   },
   "outputs": [
    {
     "data": {
      "text/plain": [
       "7"
      ]
     },
     "execution_count": 47,
     "metadata": {},
     "output_type": "execute_result"
    }
   ],
   "source": [
    "# ver los datos\n",
    "\n",
    "notas_maria.shape[0]"
   ]
  },
  {
   "cell_type": "code",
   "execution_count": 48,
   "metadata": {
    "id": "NRIyyTS9Q9Js"
   },
   "outputs": [],
   "source": [
    "# se pone eun una variable\n",
    "\n",
    "n = notas_maria.shape[0]"
   ]
  },
  {
   "cell_type": "code",
   "execution_count": 49,
   "metadata": {
    "id": "-UNuyt6lQ9lS"
   },
   "outputs": [
    {
     "data": {
      "text/html": [
       "<div>\n",
       "<style scoped>\n",
       "    .dataframe tbody tr th:only-of-type {\n",
       "        vertical-align: middle;\n",
       "    }\n",
       "\n",
       "    .dataframe tbody tr th {\n",
       "        vertical-align: top;\n",
       "    }\n",
       "\n",
       "    .dataframe thead th {\n",
       "        text-align: right;\n",
       "    }\n",
       "</style>\n",
       "<table border=\"1\" class=\"dataframe\">\n",
       "  <thead>\n",
       "    <tr style=\"text-align: right;\">\n",
       "      <th></th>\n",
       "      <th>index</th>\n",
       "      <th>María</th>\n",
       "    </tr>\n",
       "  </thead>\n",
       "  <tbody>\n",
       "    <tr>\n",
       "      <th>0</th>\n",
       "      <td>Inglés</td>\n",
       "      <td>4</td>\n",
       "    </tr>\n",
       "    <tr>\n",
       "      <th>1</th>\n",
       "      <td>Historia</td>\n",
       "      <td>6</td>\n",
       "    </tr>\n",
       "    <tr>\n",
       "      <th>2</th>\n",
       "      <td>Matemática</td>\n",
       "      <td>8</td>\n",
       "    </tr>\n",
       "    <tr>\n",
       "      <th>3</th>\n",
       "      <td>Geografía</td>\n",
       "      <td>8</td>\n",
       "    </tr>\n",
       "    <tr>\n",
       "      <th>4</th>\n",
       "      <td>Química</td>\n",
       "      <td>8</td>\n",
       "    </tr>\n",
       "    <tr>\n",
       "      <th>5</th>\n",
       "      <td>Portugués</td>\n",
       "      <td>10</td>\n",
       "    </tr>\n",
       "    <tr>\n",
       "      <th>6</th>\n",
       "      <td>Física</td>\n",
       "      <td>10</td>\n",
       "    </tr>\n",
       "  </tbody>\n",
       "</table>\n",
       "</div>"
      ],
      "text/plain": [
       "        index  María\n",
       "0      Inglés      4\n",
       "1    Historia      6\n",
       "2  Matemática      8\n",
       "3   Geografía      8\n",
       "4     Química      8\n",
       "5   Portugués     10\n",
       "6      Física     10"
      ]
     },
     "execution_count": 49,
     "metadata": {},
     "output_type": "execute_result"
    }
   ],
   "source": [
    "# se toma la columna numerica y el index\n",
    "\n",
    "notas_maria = notas_maria.reset_index()\n",
    "notas_maria"
   ]
  },
  {
   "cell_type": "code",
   "execution_count": 50,
   "metadata": {
    "id": "aKrplKSjQ9x5"
   },
   "outputs": [
    {
     "data": {
      "text/plain": [
       "4.0"
      ]
     },
     "execution_count": 50,
     "metadata": {},
     "output_type": "execute_result"
    }
   ],
   "source": [
    "# elemento del medio\n",
    "\n",
    "elemento_md = (n + 1) / 2\n",
    "elemento_md"
   ]
  },
  {
   "cell_type": "code",
   "execution_count": 51,
   "metadata": {
    "id": "zoYfHt6xOzbG"
   },
   "outputs": [
    {
     "data": {
      "text/plain": [
       "index    Geografía\n",
       "María            8\n",
       "Name: 3, dtype: object"
      ]
     },
     "execution_count": 51,
     "metadata": {},
     "output_type": "execute_result"
    }
   ],
   "source": [
    "notas_maria.loc[elemento_md - 1]"
   ]
  },
  {
   "cell_type": "code",
   "execution_count": 52,
   "metadata": {
    "id": "A9_bQI_sQ9Vm"
   },
   "outputs": [
    {
     "data": {
      "text/plain": [
       "8.0"
      ]
     },
     "execution_count": 52,
     "metadata": {},
     "output_type": "execute_result"
    }
   ],
   "source": [
    "# forma facil de la mediana\n",
    "\n",
    "notas_maria['María'].median()"
   ]
  },
  {
   "cell_type": "markdown",
   "metadata": {
    "id": "hQHyjfLkjQMe"
   },
   "source": [
    "### Ejemplo 2 - n par\n",
    "\n",
    "<img src='https://caelum-online-public.s3.amazonaws.com/ESP-1752-estadistica-con-python-parte1/img003.png' width='50%' style=\"float:left\">"
   ]
  },
  {
   "cell_type": "code",
   "execution_count": 53,
   "metadata": {
    "id": "usKdNy4iQ0fP"
   },
   "outputs": [
    {
     "data": {
      "text/plain": [
       "Geografía      1.0\n",
       "Física         9.5\n",
       "Química       10.0\n",
       "Historia       3.0\n",
       "Matemática    10.0\n",
       "Portugués      2.0\n",
       "Name: Pedro, dtype: float64"
      ]
     },
     "execution_count": 53,
     "metadata": {},
     "output_type": "execute_result"
    }
   ],
   "source": [
    "# ejemplo con pares \n",
    "\n",
    "notas_pedro = df['Pedro'].sample(6, random_state= 200 )\n",
    "notas_pedro"
   ]
  },
  {
   "cell_type": "code",
   "execution_count": 54,
   "metadata": {},
   "outputs": [
    {
     "data": {
      "text/plain": [
       "Geografía      1.0\n",
       "Portugués      2.0\n",
       "Historia       3.0\n",
       "Física         9.5\n",
       "Química       10.0\n",
       "Matemática    10.0\n",
       "Name: Pedro, dtype: float64"
      ]
     },
     "execution_count": 54,
     "metadata": {},
     "output_type": "execute_result"
    }
   ],
   "source": [
    "# odenar\n",
    "notas_pedro = notas_pedro.sort_values()\n",
    "notas_pedro"
   ]
  },
  {
   "cell_type": "code",
   "execution_count": 55,
   "metadata": {
    "id": "-TESHiXKQ0xC"
   },
   "outputs": [
    {
     "data": {
      "text/plain": [
       "6"
      ]
     },
     "execution_count": 55,
     "metadata": {},
     "output_type": "execute_result"
    }
   ],
   "source": [
    "notas_pedro.shape[0]"
   ]
  },
  {
   "cell_type": "code",
   "execution_count": 56,
   "metadata": {
    "id": "hE67JJh9Q1Du"
   },
   "outputs": [],
   "source": [
    "n = notas_pedro.shape[0]"
   ]
  },
  {
   "cell_type": "code",
   "execution_count": 57,
   "metadata": {
    "id": "HqBZ4vF8Q1SG"
   },
   "outputs": [
    {
     "data": {
      "text/html": [
       "<div>\n",
       "<style scoped>\n",
       "    .dataframe tbody tr th:only-of-type {\n",
       "        vertical-align: middle;\n",
       "    }\n",
       "\n",
       "    .dataframe tbody tr th {\n",
       "        vertical-align: top;\n",
       "    }\n",
       "\n",
       "    .dataframe thead th {\n",
       "        text-align: right;\n",
       "    }\n",
       "</style>\n",
       "<table border=\"1\" class=\"dataframe\">\n",
       "  <thead>\n",
       "    <tr style=\"text-align: right;\">\n",
       "      <th></th>\n",
       "      <th>index</th>\n",
       "      <th>Pedro</th>\n",
       "    </tr>\n",
       "  </thead>\n",
       "  <tbody>\n",
       "    <tr>\n",
       "      <th>0</th>\n",
       "      <td>Geografía</td>\n",
       "      <td>1.0</td>\n",
       "    </tr>\n",
       "    <tr>\n",
       "      <th>1</th>\n",
       "      <td>Portugués</td>\n",
       "      <td>2.0</td>\n",
       "    </tr>\n",
       "    <tr>\n",
       "      <th>2</th>\n",
       "      <td>Historia</td>\n",
       "      <td>3.0</td>\n",
       "    </tr>\n",
       "    <tr>\n",
       "      <th>3</th>\n",
       "      <td>Física</td>\n",
       "      <td>9.5</td>\n",
       "    </tr>\n",
       "    <tr>\n",
       "      <th>4</th>\n",
       "      <td>Química</td>\n",
       "      <td>10.0</td>\n",
       "    </tr>\n",
       "    <tr>\n",
       "      <th>5</th>\n",
       "      <td>Matemática</td>\n",
       "      <td>10.0</td>\n",
       "    </tr>\n",
       "  </tbody>\n",
       "</table>\n",
       "</div>"
      ],
      "text/plain": [
       "        index  Pedro\n",
       "0   Geografía    1.0\n",
       "1   Portugués    2.0\n",
       "2    Historia    3.0\n",
       "3      Física    9.5\n",
       "4     Química   10.0\n",
       "5  Matemática   10.0"
      ]
     },
     "execution_count": 57,
     "metadata": {},
     "output_type": "execute_result"
    }
   ],
   "source": [
    "notas_pedro = notas_pedro.reset_index()\n",
    "notas_pedro"
   ]
  },
  {
   "cell_type": "code",
   "execution_count": 58,
   "metadata": {
    "id": "uVP1gi4-Q1n_"
   },
   "outputs": [
    {
     "data": {
      "text/plain": [
       "3"
      ]
     },
     "execution_count": 58,
     "metadata": {},
     "output_type": "execute_result"
    }
   ],
   "source": [
    "# mediana debemos volver entero \n",
    "elemento_md = int(n / 2)\n",
    "elemento_md"
   ]
  },
  {
   "cell_type": "code",
   "execution_count": 59,
   "metadata": {
    "id": "JRXDP3zMQ16a"
   },
   "outputs": [
    {
     "name": "stderr",
     "output_type": "stream",
     "text": [
      "C:\\Users\\rrs23\\AppData\\Local\\Temp\\ipykernel_18244\\2888943676.py:1: FutureWarning: Series.__getitem__ treating keys as positions is deprecated. In a future version, integer keys will always be treated as labels (consistent with DataFrame behavior). To access a value by position, use `ser.iloc[pos]`\n",
      "  (notas_pedro.iloc[elemento_md - 1][1] + notas_pedro.iloc[elemento_md][1]) / 2\n"
     ]
    },
    {
     "data": {
      "text/plain": [
       "6.25"
      ]
     },
     "execution_count": 59,
     "metadata": {},
     "output_type": "execute_result"
    }
   ],
   "source": [
    "(notas_pedro.iloc[elemento_md - 1][1] + notas_pedro.iloc[elemento_md][1]) / 2"
   ]
  },
  {
   "cell_type": "code",
   "execution_count": 60,
   "metadata": {
    "id": "HzvrLYAEQ2KP"
   },
   "outputs": [
    {
     "data": {
      "text/plain": [
       "1200.0"
      ]
     },
     "execution_count": 60,
     "metadata": {},
     "output_type": "execute_result"
    }
   ],
   "source": [
    "datos.Ingreso.median()"
   ]
  },
  {
   "cell_type": "markdown",
   "metadata": {
    "id": "nK27TxrkjQMl"
   },
   "source": [
    "### Obtener la mediana en nuestro conjunto de datos"
   ]
  },
  {
   "cell_type": "code",
   "execution_count": null,
   "metadata": {
    "id": "koxw53dbQrUf"
   },
   "outputs": [],
   "source": []
  },
  {
   "cell_type": "markdown",
   "metadata": {
    "id": "CmCu6BXQjQMo"
   },
   "source": [
    "## <font color=#56B4E9>3.3 Moda</font>\n",
    "***\n",
    "\n",
    "La moda se puede definir como el valor más frecuente de un conjunto de datos. La moda es ampliamente utilizada para datos cualitativos."
   ]
  },
  {
   "cell_type": "code",
   "execution_count": 61,
   "metadata": {
    "id": "GkAJ2vxcQm9L"
   },
   "outputs": [
    {
     "data": {
      "text/html": [
       "<div>\n",
       "<style scoped>\n",
       "    .dataframe tbody tr th:only-of-type {\n",
       "        vertical-align: middle;\n",
       "    }\n",
       "\n",
       "    .dataframe tbody tr th {\n",
       "        vertical-align: top;\n",
       "    }\n",
       "\n",
       "    .dataframe thead th {\n",
       "        text-align: right;\n",
       "    }\n",
       "</style>\n",
       "<table border=\"1\" class=\"dataframe\">\n",
       "  <thead>\n",
       "    <tr style=\"text-align: right;\">\n",
       "      <th>Asignaturas</th>\n",
       "      <th>María</th>\n",
       "      <th>Pedro</th>\n",
       "      <th>Pablo</th>\n",
       "    </tr>\n",
       "  </thead>\n",
       "  <tbody>\n",
       "    <tr>\n",
       "      <th>0</th>\n",
       "      <td>8</td>\n",
       "      <td>10.0</td>\n",
       "      <td>8.0</td>\n",
       "    </tr>\n",
       "  </tbody>\n",
       "</table>\n",
       "</div>"
      ],
      "text/plain": [
       "Asignaturas  María  Pedro  Pablo\n",
       "0                8   10.0    8.0"
      ]
     },
     "execution_count": 61,
     "metadata": {},
     "output_type": "execute_result"
    }
   ],
   "source": [
    "# ejemplo de moda\n",
    "\n",
    "df.mode()"
   ]
  },
  {
   "cell_type": "code",
   "execution_count": 62,
   "metadata": {
    "id": "MdtkoAffQnNY"
   },
   "outputs": [
    {
     "data": {
      "text/plain": [
       "0    1\n",
       "1    2\n",
       "2    2\n",
       "3    3\n",
       "4    4\n",
       "5    4\n",
       "6    5\n",
       "7    6\n",
       "8    7\n",
       "dtype: int64"
      ]
     },
     "execution_count": 62,
     "metadata": {},
     "output_type": "execute_result"
    }
   ],
   "source": [
    "ejemplo = pd.Series([1, 2, 2, 3, 4, 4, 5, 6, 7])\n",
    "ejemplo"
   ]
  },
  {
   "cell_type": "code",
   "execution_count": 63,
   "metadata": {
    "id": "Rgw5sgzGQnWM"
   },
   "outputs": [
    {
     "data": {
      "text/plain": [
       "0    2\n",
       "1    4\n",
       "dtype: int64"
      ]
     },
     "execution_count": 63,
     "metadata": {},
     "output_type": "execute_result"
    }
   ],
   "source": [
    "ejemplo.mode()"
   ]
  },
  {
   "cell_type": "code",
   "execution_count": 64,
   "metadata": {
    "id": "-QE5_MbqQnrq"
   },
   "outputs": [
    {
     "data": {
      "text/plain": [
       "0    788\n",
       "Name: Ingreso, dtype: int64"
      ]
     },
     "execution_count": 64,
     "metadata": {},
     "output_type": "execute_result"
    }
   ],
   "source": [
    "datos.Ingreso.mode()"
   ]
  },
  {
   "cell_type": "code",
   "execution_count": 65,
   "metadata": {},
   "outputs": [
    {
     "data": {
      "text/plain": [
       "0    1.568128\n",
       "1    1.671225\n",
       "2    1.681659\n",
       "3    1.692977\n",
       "4    1.708163\n",
       "5    1.708370\n",
       "6    1.753842\n",
       "7    1.779073\n",
       "8    1.796462\n",
       "Name: Altura, dtype: float64"
      ]
     },
     "execution_count": 65,
     "metadata": {},
     "output_type": "execute_result"
    }
   ],
   "source": [
    "# moda multimodal\n",
    "datos.Altura.mode()"
   ]
  },
  {
   "cell_type": "markdown",
   "metadata": {
    "id": "YwhBwz-JjQMr"
   },
   "source": [
    "### Obteniendo la moda de nuestro dataset"
   ]
  },
  {
   "cell_type": "code",
   "execution_count": 66,
   "metadata": {
    "id": "giQc9MmPQhS3"
   },
   "outputs": [
    {
     "data": {
      "text/plain": [
       "0    788\n",
       "Name: Ingreso, dtype: int64"
      ]
     },
     "execution_count": 66,
     "metadata": {},
     "output_type": "execute_result"
    }
   ],
   "source": [
    "datos.Ingreso.mode()"
   ]
  },
  {
   "cell_type": "code",
   "execution_count": 67,
   "metadata": {
    "id": "tqasvK5vQhki"
   },
   "outputs": [
    {
     "data": {
      "text/plain": [
       "0    1.568128\n",
       "1    1.671225\n",
       "2    1.681659\n",
       "3    1.692977\n",
       "4    1.708163\n",
       "5    1.708370\n",
       "6    1.753842\n",
       "7    1.779073\n",
       "8    1.796462\n",
       "Name: Altura, dtype: float64"
      ]
     },
     "execution_count": 67,
     "metadata": {},
     "output_type": "execute_result"
    }
   ],
   "source": [
    "# moda multimodal\n",
    "datos.Altura.mode()"
   ]
  },
  {
   "cell_type": "markdown",
   "metadata": {
    "id": "_-0gjQWFjQMu"
   },
   "source": [
    "## <font color=#56B4E9>3.4 Relación entre media, mediana e moda</font>\n",
    "***"
   ]
  },
  {
   "cell_type": "markdown",
   "metadata": {
    "id": "0S7pa_jLjQMu"
   },
   "source": [
    "<img src='https://caelum-online-public.s3.amazonaws.com/ESP-1752-estadistica-con-python-parte1/img004.png' width='80%'>"
   ]
  },
  {
   "cell_type": "markdown",
   "metadata": {
    "id": "b7ZchyFsjQMu"
   },
   "source": [
    "### Evaluando la variable INGRESO"
   ]
  },
  {
   "cell_type": "code",
   "execution_count": 68,
   "metadata": {
    "id": "0YS2_B7iQZoh"
   },
   "outputs": [
    {
     "name": "stderr",
     "output_type": "stream",
     "text": [
      "C:\\Users\\rrs23\\AppData\\Local\\Temp\\ipykernel_18244\\2879860289.py:3: UserWarning: \n",
      "\n",
      "`distplot` is a deprecated function and will be removed in seaborn v0.14.0.\n",
      "\n",
      "Please adapt your code to use either `displot` (a figure-level function with\n",
      "similar flexibility) or `histplot` (an axes-level function for histograms).\n",
      "\n",
      "For a guide to updating your code to use the new functions, please see\n",
      "https://gist.github.com/mwaskom/de44147ed2974457ad6372750bbe5751\n",
      "\n",
      "  ax = sns.distplot(datos.query(\"Ingreso < 20000\").Ingreso)\n"
     ]
    },
    {
     "data": {
      "text/plain": [
       "<Axes: xlabel='Ingreso', ylabel='Density'>"
      ]
     },
     "execution_count": 68,
     "metadata": {},
     "output_type": "execute_result"
    },
    {
     "data": {
      "image/png": "[encoded data removed]",
      "text/plain": [
       "<Figure size 1200x600 with 1 Axes>"
      ]
     },
     "metadata": {},
     "output_type": "display_data"
    }
   ],
   "source": [
    "# datos_ingreso\n",
    "\n",
    "ax = sns.distplot(datos.query(\"Ingreso < 20000\").Ingreso)\n",
    "ax.figure.set_size_inches(12, 6)\n",
    "ax"
   ]
  },
  {
   "cell_type": "code",
   "execution_count": 69,
   "metadata": {
    "id": "Jvc4LctcQZ1H"
   },
   "outputs": [
    {
     "data": {
      "text/plain": [
       "788"
      ]
     },
     "execution_count": 69,
     "metadata": {},
     "output_type": "execute_result"
    }
   ],
   "source": [
    "# calcular la moda\n",
    "\n",
    "moda = datos.Ingreso.mode()[0]\n",
    "moda"
   ]
  },
  {
   "cell_type": "code",
   "execution_count": 70,
   "metadata": {
    "id": "yKmwm4B0QaAf"
   },
   "outputs": [
    {
     "data": {
      "text/plain": [
       "1200.0"
      ]
     },
     "execution_count": 70,
     "metadata": {},
     "output_type": "execute_result"
    }
   ],
   "source": [
    "# calcular la mediana\n",
    "\n",
    "mediana = datos.Ingreso.median()\n",
    "mediana"
   ]
  },
  {
   "cell_type": "code",
   "execution_count": 71,
   "metadata": {
    "id": "9LZAyK-KQaZh"
   },
   "outputs": [
    {
     "data": {
      "text/plain": [
       "2000.3831988547631"
      ]
     },
     "execution_count": 71,
     "metadata": {},
     "output_type": "execute_result"
    }
   ],
   "source": [
    "# calcular la media\n",
    "\n",
    "media = datos.Ingreso.mean()\n",
    "media"
   ]
  },
  {
   "cell_type": "code",
   "execution_count": 72,
   "metadata": {
    "id": "hPXzKH6TQaNn"
   },
   "outputs": [
    {
     "data": {
      "text/plain": [
       "True"
      ]
     },
     "execution_count": 72,
     "metadata": {},
     "output_type": "execute_result"
    }
   ],
   "source": [
    "moda < mediana < media"
   ]
  },
  {
   "cell_type": "markdown",
   "metadata": {
    "id": "FnLQAxSijQM1"
   },
   "source": [
    "***"
   ]
  },
  {
   "cell_type": "markdown",
   "metadata": {
    "id": "WazchssNjQM1"
   },
   "source": [
    "### Evaluando la variable ALTURA"
   ]
  },
  {
   "cell_type": "code",
   "execution_count": 73,
   "metadata": {
    "id": "hpSDARMMQTD-"
   },
   "outputs": [
    {
     "name": "stderr",
     "output_type": "stream",
     "text": [
      "C:\\Users\\rrs23\\AppData\\Local\\Temp\\ipykernel_18244\\190331783.py:3: UserWarning: \n",
      "\n",
      "`distplot` is a deprecated function and will be removed in seaborn v0.14.0.\n",
      "\n",
      "Please adapt your code to use either `displot` (a figure-level function with\n",
      "similar flexibility) or `histplot` (an axes-level function for histograms).\n",
      "\n",
      "For a guide to updating your code to use the new functions, please see\n",
      "https://gist.github.com/mwaskom/de44147ed2974457ad6372750bbe5751\n",
      "\n",
      "  ax = sns.distplot(datos.Altura)\n"
     ]
    },
    {
     "data": {
      "text/plain": [
       "<Axes: xlabel='Altura', ylabel='Density'>"
      ]
     },
     "execution_count": 73,
     "metadata": {},
     "output_type": "execute_result"
    },
    {
     "data": {
      "image/png": "[encoded data removed]",
      "text/plain": [
       "<Figure size 1200x600 with 1 Axes>"
      ]
     },
     "metadata": {},
     "output_type": "display_data"
    }
   ],
   "source": [
    "# altura\n",
    "\n",
    "ax = sns.distplot(datos.Altura)\n",
    "ax.figure.set_size_inches(12, 6)\n",
    "ax"
   ]
  },
  {
   "cell_type": "code",
   "execution_count": 74,
   "metadata": {
    "id": "rvC-K9-wQTUL"
   },
   "outputs": [
    {
     "data": {
      "text/plain": [
       "0    1.568128\n",
       "1    1.671225\n",
       "2    1.681659\n",
       "3    1.692977\n",
       "4    1.708163\n",
       "5    1.708370\n",
       "6    1.753842\n",
       "7    1.779073\n",
       "8    1.796462\n",
       "Name: Altura, dtype: float64"
      ]
     },
     "execution_count": 74,
     "metadata": {},
     "output_type": "execute_result"
    }
   ],
   "source": [
    "# moda\n",
    "\n",
    "moda = datos.Altura.mode()\n",
    "moda"
   ]
  },
  {
   "cell_type": "code",
   "execution_count": 75,
   "metadata": {},
   "outputs": [
    {
     "data": {
      "text/plain": [
       "1.6995124540575741"
      ]
     },
     "execution_count": 75,
     "metadata": {},
     "output_type": "execute_result"
    }
   ],
   "source": [
    "# Media\n",
    "\n",
    "media = datos.Altura.mean()\n",
    "media"
   ]
  },
  {
   "cell_type": "code",
   "execution_count": 76,
   "metadata": {
    "id": "dZnvl2ifQTiW"
   },
   "outputs": [
    {
     "data": {
      "text/plain": [
       "1.6993247325"
      ]
     },
     "execution_count": 76,
     "metadata": {},
     "output_type": "execute_result"
    }
   ],
   "source": [
    "# mediana\n",
    "\n",
    "mediana = datos.Altura.median()\n",
    "mediana"
   ]
  },
  {
   "cell_type": "code",
   "execution_count": null,
   "metadata": {
    "id": "_pz8aKY8QTuX"
   },
   "outputs": [],
   "source": []
  },
  {
   "cell_type": "markdown",
   "metadata": {
    "id": "PJIMB8i8jQM6"
   },
   "source": [
    "***"
   ]
  },
  {
   "cell_type": "markdown",
   "metadata": {
    "id": "eS4I2H7jjQM7"
   },
   "source": [
    "### Evaluando la variable AÑOS DE ESTUDIO"
   ]
  },
  {
   "cell_type": "code",
   "execution_count": 77,
   "metadata": {
    "id": "3xsEV5C7QJrL"
   },
   "outputs": [
    {
     "name": "stderr",
     "output_type": "stream",
     "text": [
      "C:\\Users\\rrs23\\AppData\\Local\\Temp\\ipykernel_18244\\896326450.py:3: UserWarning: \n",
      "\n",
      "`distplot` is a deprecated function and will be removed in seaborn v0.14.0.\n",
      "\n",
      "Please adapt your code to use either `displot` (a figure-level function with\n",
      "similar flexibility) or `histplot` (an axes-level function for histograms).\n",
      "\n",
      "For a guide to updating your code to use the new functions, please see\n",
      "https://gist.github.com/mwaskom/de44147ed2974457ad6372750bbe5751\n",
      "\n",
      "  ax = sns.distplot(datos['Años de Estudio'],bins=17)\n"
     ]
    },
    {
     "data": {
      "text/plain": [
       "<Axes: xlabel='Años de Estudio', ylabel='Density'>"
      ]
     },
     "execution_count": 77,
     "metadata": {},
     "output_type": "execute_result"
    },
    {
     "data": {
      "image/png": "[encoded data removed]",
      "text/plain": [
       "<Figure size 1200x600 with 1 Axes>"
      ]
     },
     "metadata": {},
     "output_type": "display_data"
    }
   ],
   "source": [
    "# Años de estudio\n",
    "\n",
    "ax = sns.distplot(datos['Años de Estudio'],bins=17)\n",
    "ax.figure.set_size_inches(12, 6)\n",
    "ax"
   ]
  },
  {
   "cell_type": "code",
   "execution_count": 78,
   "metadata": {
    "id": "Ra0xm7w7QJ_E"
   },
   "outputs": [
    {
     "data": {
      "text/plain": [
       "12"
      ]
     },
     "execution_count": 78,
     "metadata": {},
     "output_type": "execute_result"
    }
   ],
   "source": [
    "# moda \n",
    "moda = datos['Años de Estudio'].mode()[0]\n",
    "moda"
   ]
  },
  {
   "cell_type": "code",
   "execution_count": 79,
   "metadata": {
    "id": "TaIVONujQKS6"
   },
   "outputs": [
    {
     "data": {
      "text/plain": [
       "11.0"
      ]
     },
     "execution_count": 79,
     "metadata": {},
     "output_type": "execute_result"
    }
   ],
   "source": [
    "# mediana\n",
    "mediana = datos['Años de Estudio'].median()\n",
    "mediana"
   ]
  },
  {
   "cell_type": "code",
   "execution_count": 80,
   "metadata": {
    "id": "eFCtQTyCQKdi"
   },
   "outputs": [
    {
     "data": {
      "text/plain": [
       "9.469664237376367"
      ]
     },
     "execution_count": 80,
     "metadata": {},
     "output_type": "execute_result"
    }
   ],
   "source": [
    "# media\n",
    "media = datos['Años de Estudio'].mean()\n",
    "media"
   ]
  },
  {
   "cell_type": "code",
   "execution_count": 81,
   "metadata": {
    "id": "UpugYl7mQKLo"
   },
   "outputs": [
    {
     "data": {
      "text/plain": [
       "True"
      ]
     },
     "execution_count": 81,
     "metadata": {},
     "output_type": "execute_result"
    }
   ],
   "source": [
    "moda > mediana > media"
   ]
  },
  {
   "cell_type": "markdown",
   "metadata": {
    "id": "vcaIo45UjQND"
   },
   "source": [
    "# <font color=#56B4E9>4 MEDIDAS DE LOCALIZACIÓN</font>\n",
    "***"
   ]
  },
  {
   "cell_type": "markdown",
   "metadata": {
    "id": "f4XrApNxjQNE"
   },
   "source": [
    "## <font color=#56B4E9>4.1 Cuartiles, deciles y percentiles</font>\n",
    "***\n",
    "\n",
    "Hay una serie de medidas de posición similares en su diseño a la mediana, aunque no son medidas de tendencia central. Como se sabe, la mediana divide la distribución en dos partes iguales en términos del número de elementos en cada parte. Los cuartiles, por otro lado, permiten que la distribución se divida en cuatro partes iguales en términos del número de elementos en cada uno; deciles en diez partes y centiles en cien partes iguales."
   ]
  },
  {
   "cell_type": "code",
   "execution_count": 82,
   "metadata": {
    "id": "VmbdUO-ujQNE"
   },
   "outputs": [
    {
     "data": {
      "text/plain": [
       "0.25     788.0\n",
       "0.50    1200.0\n",
       "0.75    2000.0\n",
       "Name: Ingreso, dtype: float64"
      ]
     },
     "execution_count": 82,
     "metadata": {},
     "output_type": "execute_result"
    }
   ],
   "source": [
    "# cuartiles\n",
    "\n",
    "datos.Ingreso.quantile([0.25, 0.5, 0.75])"
   ]
  },
  {
   "cell_type": "code",
   "execution_count": 83,
   "metadata": {
    "id": "gyiJDAMbjQNF"
   },
   "outputs": [
    {
     "data": {
      "text/plain": [
       "[0.1, 0.2, 0.3, 0.4, 0.5, 0.6, 0.7, 0.8, 0.9]"
      ]
     },
     "execution_count": 83,
     "metadata": {},
     "output_type": "execute_result"
    }
   ],
   "source": [
    "# deciles\n",
    "\n",
    "[i/10 for i in range(1, 10)]"
   ]
  },
  {
   "cell_type": "code",
   "execution_count": 84,
   "metadata": {
    "id": "EpRKboV5jQNG"
   },
   "outputs": [
    {
     "data": {
      "text/plain": [
       "0.1     350.0\n",
       "0.2     788.0\n",
       "0.3     800.0\n",
       "0.4    1000.0\n",
       "0.5    1200.0\n",
       "0.6    1500.0\n",
       "0.7    1900.0\n",
       "0.8    2500.0\n",
       "0.9    4000.0\n",
       "Name: Ingreso, dtype: float64"
      ]
     },
     "execution_count": 84,
     "metadata": {},
     "output_type": "execute_result"
    }
   ],
   "source": [
    "# deciles segunda parte\n",
    "\n",
    "datos.Ingreso.quantile([i/10 for i in range(1, 10)])"
   ]
  },
  {
   "cell_type": "code",
   "execution_count": 85,
   "metadata": {
    "id": "LQW--GapjQNI",
    "scrolled": true
   },
   "outputs": [
    {
     "data": {
      "text/plain": [
       "0.01        0.0\n",
       "0.02        0.0\n",
       "0.03        0.0\n",
       "0.04       50.0\n",
       "0.05      100.0\n",
       "         ...   \n",
       "0.95     6000.0\n",
       "0.96     7000.0\n",
       "0.97     8000.0\n",
       "0.98    10000.0\n",
       "0.99    15000.0\n",
       "Name: Ingreso, Length: 99, dtype: float64"
      ]
     },
     "execution_count": 85,
     "metadata": {},
     "output_type": "execute_result"
    }
   ],
   "source": [
    "# perceltiles\n",
    "\n",
    "datos.Ingreso.quantile([i/100 for i in range(1, 100)])"
   ]
  },
  {
   "cell_type": "code",
   "execution_count": 86,
   "metadata": {
    "id": "pO2HCo1WUE5F"
   },
   "outputs": [
    {
     "name": "stderr",
     "output_type": "stream",
     "text": [
      "C:\\Users\\rrs23\\AppData\\Local\\Temp\\ipykernel_18244\\1027295005.py:3: UserWarning: \n",
      "\n",
      "`distplot` is a deprecated function and will be removed in seaborn v0.14.0.\n",
      "\n",
      "Please adapt your code to use either `displot` (a figure-level function with\n",
      "similar flexibility) or `histplot` (an axes-level function for histograms).\n",
      "\n",
      "For a guide to updating your code to use the new functions, please see\n",
      "https://gist.github.com/mwaskom/de44147ed2974457ad6372750bbe5751\n",
      "\n",
      "  ax = sns.distplot(datos.Edad,\n"
     ]
    },
    {
     "data": {
      "text/plain": [
       "<Axes: title={'center': 'Distribucion de la Frecuencia Acumulada'}, xlabel='Años', ylabel='Acumulado'>"
      ]
     },
     "execution_count": 86,
     "metadata": {},
     "output_type": "execute_result"
    },
    {
     "data": {
      "image/png": "[encoded data removed]",
      "text/plain": [
       "<Figure size 1200x600 with 1 Axes>"
      ]
     },
     "metadata": {},
     "output_type": "display_data"
    }
   ],
   "source": [
    "# grafico\n",
    "\n",
    "ax = sns.distplot(datos.Edad,\n",
    "                  hist_kws={'cumulative': True},\n",
    "                  kde_kws={'cumulative': True},\n",
    "                  bins= 10)\n",
    "ax.figure.set_size_inches(12, 6)\n",
    "ax.set_title('Distribucion de la Frecuencia Acumulada', fontsize=18)\n",
    "ax.set_ylabel('Acumulado', fontsize=14)\n",
    "ax.set_xlabel('Años', fontsize=14)\n",
    "ax"
   ]
  },
  {
   "cell_type": "code",
   "execution_count": 87,
   "metadata": {
    "id": "GGHVrQA7jQNI"
   },
   "outputs": [
    {
     "data": {
      "image/png": "[encoded data removed]",
      "text/plain": [
       "<Figure size 1200x600 with 1 Axes>"
      ]
     },
     "metadata": {},
     "output_type": "display_data"
    }
   ],
   "source": [
    "# Estilo claro\n",
    "sns.set_style(\"whitegrid\")\n",
    "\n",
    "# Crear figura y ejes\n",
    "fig, ax = plt.subplots(figsize=(12, 6))\n",
    "fig.set_facecolor('white')  # Fondo blanco o #f5f5f5 si quieres un tono más suave\n",
    "\n",
    "# Histograma acumulado con relleno azul claro\n",
    "sns.histplot(data=datos,\n",
    "             x=\"Edad\",\n",
    "             bins=10,\n",
    "             stat=\"density\",\n",
    "             cumulative=True,\n",
    "             fill=True,\n",
    "             element=\"step\",\n",
    "             color='skyblue',\n",
    "             ax=ax)\n",
    "\n",
    "# Línea KDE acumulada en azul medio (como la de la imagen)\n",
    "sns.kdeplot(data=datos,\n",
    "            x=\"Edad\",\n",
    "            cumulative=True,\n",
    "            color='#2980b9',\n",
    "            linewidth=2,\n",
    "            ax=ax)\n",
    "\n",
    "# Títulos y etiquetas\n",
    "ax.set_title('Distribución de la Frecuencia Acumulada', fontsize=18)\n",
    "ax.set_ylabel('Acumulado', fontsize=14)\n",
    "ax.set_xlabel('Años', fontsize=14)\n",
    "\n",
    "# Opcional: quitar la cuadrícula si prefieres más limpio\n",
    "ax.grid(False)\n",
    "\n",
    "# Fondo del gráfico\n",
    "ax.set_facecolor('white')  # fondo del área de datos"
   ]
  },
  {
   "cell_type": "code",
   "execution_count": 88,
   "metadata": {},
   "outputs": [
    {
     "data": {
      "text/plain": [
       "0.1    28.0\n",
       "0.2    33.0\n",
       "0.3    36.0\n",
       "0.4    40.0\n",
       "0.5    43.0\n",
       "0.6    47.0\n",
       "0.7    51.0\n",
       "0.8    55.0\n",
       "0.9    61.0\n",
       "Name: Edad, dtype: float64"
      ]
     },
     "execution_count": 88,
     "metadata": {},
     "output_type": "execute_result"
    }
   ],
   "source": [
    "datos.Edad.quantile([i/10 for i in range(1,10)])"
   ]
  },
  {
   "cell_type": "code",
   "execution_count": null,
   "metadata": {},
   "outputs": [],
   "source": []
  },
  {
   "cell_type": "markdown",
   "metadata": {
    "id": "6gIeZO_CjQNJ"
   },
   "source": [
    "## <font color=#56B4E9>4.2 Box-plot</font>\n",
    "***\n",
    "\n",
    "El *box plot* da una idea de la posición, dispersión, asimetría, colas y valores extremos. La posición central está dada por la mediana y la dispersión por $IIQ$ (distancia inter cuartil). Las posiciones relativas de $Q1$, $Mediana$ y $Q3$ dan una idea de la simetría de la distribución. Las longitudes de las colas están dadas por las líneas que van desde el rectángulo a los valores remotos y por los valores extremos."
   ]
  },
  {
   "cell_type": "markdown",
   "metadata": {
    "id": "VeiTE_gvjQNK"
   },
   "source": [
    "<img src='https://caelum-online-public.s3.amazonaws.com/ESP-1752-estadistica-con-python-parte1/img005.png' width='65%'>"
   ]
  },
  {
   "cell_type": "code",
   "execution_count": 89,
   "metadata": {
    "id": "pBY2EWkzjQNK"
   },
   "outputs": [
    {
     "data": {
      "text/plain": [
       "<Axes: title={'center': 'Altura'}, xlabel='Metros'>"
      ]
     },
     "execution_count": 89,
     "metadata": {},
     "output_type": "execute_result"
    },
    {
     "data": {
      "image/png": "[encoded data removed]",
      "text/plain": [
       "<Figure size 1200x600 with 1 Axes>"
      ]
     },
     "metadata": {},
     "output_type": "display_data"
    }
   ],
   "source": [
    "# graficar\n",
    "\n",
    "ax = sns.boxplot(x='Altura', data=datos, orient= 'h')\n",
    "ax.figure.set_size_inches(12, 6)\n",
    "ax.set_title('Altura', fontsize=18)\n",
    "ax.set_xlabel('Metros', fontsize=16)\n",
    "ax.grid(False)\n",
    "ax"
   ]
  },
  {
   "cell_type": "code",
   "execution_count": 90,
   "metadata": {
    "id": "AEhX7-ggsuiY"
   },
   "outputs": [
    {
     "data": {
      "image/png": "[encoded data removed]",
      "text/plain": [
       "<Figure size 1200x600 with 1 Axes>"
      ]
     },
     "metadata": {},
     "output_type": "display_data"
    }
   ],
   "source": [
    "# Crear gráfico básico\n",
    "ax = sns.boxplot(x='Altura', data=datos, orient='h',\n",
    "                 boxprops=dict(facecolor='#d5f5e3', edgecolor='#283747'),\n",
    "                 medianprops=dict(color='#283747'),\n",
    "                 whiskerprops=dict(color='black'),\n",
    "                 capprops=dict(color='black'),\n",
    "                 flierprops=dict(marker='o', markerfacecolor='#566573', markeredgecolor='#212f3d'))\n",
    "\n",
    "ax.figure.set_size_inches(12, 6)\n",
    "ax.set_title('Altura', fontsize=18)\n",
    "ax.set_xlabel('Metros', fontsize=16)\n",
    "ax.set_facecolor('white')\n",
    "ax.figure.set_facecolor('white')\n",
    "ax.grid(False)"
   ]
  },
  {
   "cell_type": "code",
   "execution_count": 91,
   "metadata": {
    "id": "2ZPrRov1suSF"
   },
   "outputs": [
    {
     "data": {
      "text/plain": [
       "<Axes: title={'center': 'Altura'}, xlabel='Metros', ylabel='Sexo'>"
      ]
     },
     "execution_count": 91,
     "metadata": {},
     "output_type": "execute_result"
    },
    {
     "data": {
      "image/png": "[encoded data removed]",
      "text/plain": [
       "<Figure size 1200x400 with 1 Axes>"
      ]
     },
     "metadata": {},
     "output_type": "display_data"
    }
   ],
   "source": [
    "# dos variables\n",
    "\n",
    "ax = sns.boxplot(x='Altura', y='Sexo', data= datos, orient= 'h' )\n",
    "ax.figure.set_size_inches(12, 4)\n",
    "ax.set_title('Altura', fontsize=18)\n",
    "ax.set_xlabel('Metros', fontsize=14)\n",
    "ax.grid(False)\n",
    "ax"
   ]
  },
  {
   "cell_type": "code",
   "execution_count": 92,
   "metadata": {
    "id": "CSwlKUrrsuFi"
   },
   "outputs": [
    {
     "ename": "SyntaxError",
     "evalue": "incomplete input (231010753.py, line 18)",
     "output_type": "error",
     "traceback": [
      "\u001b[1;36m  Cell \u001b[1;32mIn[92], line 18\u001b[1;36m\u001b[0m\n\u001b[1;33m    ax.set_xlabel('Metros', f_\u001b[0m\n\u001b[1;37m                              ^\u001b[0m\n\u001b[1;31mSyntaxError\u001b[0m\u001b[1;31m:\u001b[0m incomplete input\n"
     ]
    }
   ],
   "source": [
    "import seaborn as sns\n",
    "import matplotlib.pyplot as plt\n",
    "\n",
    "# Crear el gráfico\n",
    "ax = sns.boxplot(\n",
    "    x='Altura',\n",
    "    y='Sexo',\n",
    "    data=datos,\n",
    "    orient='h',\n",
    "    palette='pastel',  # Colores suaves para las cajas\n",
    "    boxprops=dict(facecolor='skyblue', edgecolor='gray'),  # Color de la caja\n",
    "    flierprops=dict(marker='o', markerfacecolor='red', markersize=5, linestyle='none')  # Outliers en rojo\n",
    ")\n",
    "\n",
    "# Ajustes del gráfico\n",
    "ax.figure.set_size_inches(12, 4)\n",
    "ax.set_title('Altura', fontsize=18)\n",
    "ax.set_xlabel('Metros', f_\n"
   ]
  },
  {
   "cell_type": "code",
   "execution_count": null,
   "metadata": {
    "id": "IDrzBcJ_jQNL"
   },
   "outputs": [],
   "source": []
  },
  {
   "cell_type": "code",
   "execution_count": null,
   "metadata": {
    "id": "V3I-2KsbjQNM"
   },
   "outputs": [],
   "source": []
  },
  {
   "cell_type": "markdown",
   "metadata": {
    "id": "amloMZwVjQNN"
   },
   "source": [
    "<img src='https://caelum-online-public.s3.amazonaws.com/ESP-1752-estadistica-con-python-parte1/img006.png' width='80%'>"
   ]
  },
  {
   "cell_type": "markdown",
   "metadata": {
    "id": "aJ6v_NI9jQNN"
   },
   "source": [
    "# <font color=#56B4E9>5 MEDIDAS DE DISPERSIÓN</font>\n",
    "***\n",
    "\n",
    "Aunque las medidas de tendencia central y de localización proporcionan un resumen muy importante de los datos, pueden no ser suficientes para caracterizar diferentes conjuntos, especialmente cuando las observaciones de una distribución dada presentan datos muy dispersos."
   ]
  },
  {
   "cell_type": "markdown",
   "metadata": {
    "id": "D6xVxAQ7jQNO"
   },
   "source": [
    "## <font color=#56B4E9>5.1 Desviación media absoluta</font>\n",
    "***\n",
    "\n",
    "\n",
    "# $$DM = \\frac 1n\\sum_{i=1}^{n}|X_i-\\bar{X}|$$\n"
   ]
  },
  {
   "cell_type": "code",
   "execution_count": null,
   "metadata": {
    "id": "0sL31blV7nz3"
   },
   "outputs": [],
   "source": []
  },
  {
   "cell_type": "code",
   "execution_count": null,
   "metadata": {
    "id": "f3pAri4G7nc4"
   },
   "outputs": [],
   "source": []
  },
  {
   "cell_type": "code",
   "execution_count": null,
   "metadata": {
    "id": "8_Q2tOTmjQNO"
   },
   "outputs": [],
   "source": []
  },
  {
   "cell_type": "code",
   "execution_count": null,
   "metadata": {
    "id": "OiWDTw0ljQNQ"
   },
   "outputs": [],
   "source": []
  },
  {
   "cell_type": "code",
   "execution_count": null,
   "metadata": {
    "id": "qQbjktz5jQNR"
   },
   "outputs": [],
   "source": []
  },
  {
   "cell_type": "code",
   "execution_count": null,
   "metadata": {
    "id": "m4buiQWF01xt"
   },
   "outputs": [],
   "source": []
  },
  {
   "cell_type": "code",
   "execution_count": null,
   "metadata": {
    "id": "1PEJ_LUn01eV"
   },
   "outputs": [],
   "source": []
  },
  {
   "cell_type": "code",
   "execution_count": null,
   "metadata": {
    "id": "bFhjEIJ30hpg"
   },
   "outputs": [],
   "source": []
  },
  {
   "cell_type": "code",
   "execution_count": null,
   "metadata": {
    "id": "ciAb5LHA0oWX"
   },
   "outputs": [],
   "source": []
  },
  {
   "cell_type": "code",
   "execution_count": null,
   "metadata": {
    "id": "ApYwvIjX04aQ"
   },
   "outputs": [],
   "source": []
  },
  {
   "cell_type": "markdown",
   "metadata": {
    "id": "jSKfnKwEjQNW"
   },
   "source": [
    "## <font color=#56B4E9>5.2 Varianza</font>\n",
    "***"
   ]
  },
  {
   "cell_type": "markdown",
   "metadata": {
    "id": "tHD3yNqzjQNW"
   },
   "source": [
    "### Varianza\n",
    "\n",
    "La varianza se construye a partir de las diferencias entre cada observación y la media de los datos, es decir, la desviación alrededor de la media. Al calcular la varianza, las desviaciones alrededor de la media son elevadas al cuadrado."
   ]
  },
  {
   "cell_type": "markdown",
   "metadata": {
    "id": "WrCn9hw0jQNX"
   },
   "source": [
    "### Varianza de la población\n",
    "\n",
    "# $$\\sigma^2 = \\frac 1n\\sum_{i=1}^{n}(X_i-\\mu)^2$$"
   ]
  },
  {
   "cell_type": "markdown",
   "metadata": {
    "id": "jV5mQT_djQNX"
   },
   "source": [
    "### Varianza de la muestra\n",
    "\n",
    "# $$S^2 = \\frac 1{n-1}\\sum_{i=1}^{n}(X_i-\\bar{X})^2$$"
   ]
  },
  {
   "cell_type": "code",
   "execution_count": null,
   "metadata": {
    "id": "4tlbCQeujQNZ"
   },
   "outputs": [],
   "source": []
  },
  {
   "cell_type": "code",
   "execution_count": null,
   "metadata": {
    "id": "oCcAfoIOjQNa"
   },
   "outputs": [],
   "source": []
  },
  {
   "cell_type": "code",
   "execution_count": null,
   "metadata": {
    "id": "EyrfPHLtjQNb"
   },
   "outputs": [],
   "source": []
  },
  {
   "cell_type": "markdown",
   "metadata": {
    "id": "wQl_CsytjQNg"
   },
   "source": [
    "## <font color=#56B4E9>5.3 Desviación estándar</font>\n",
    "***\n",
    "\n",
    "Una de las restricciones de la varianza es el hecho de que proporciona medidas cuadráticas de las unidades originales; la varianza de las medidas de longitud, por ejemplo, está en unidades de área. Por lo tanto, el hecho de que las unidades sean diferentes dificulta la comparación de la dispersión con las variables que la definen. Una forma de eliminar esta dificultad es considerar su raíz cuadrada."
   ]
  },
  {
   "cell_type": "markdown",
   "metadata": {
    "id": "X9w1Iqt3jQNg"
   },
   "source": [
    "### Desviación estándar de la población\n",
    "\n",
    "# $$\\sigma = \\sqrt{\\frac 1n\\sum_{i=1}^{n}(X_i-\\mu)^2} \\Longrightarrow \\sigma = \\sqrt{\\sigma^2}$$"
   ]
  },
  {
   "cell_type": "markdown",
   "metadata": {
    "id": "D3J4MvMpjQNg"
   },
   "source": [
    "\n",
    "### Desviación estándar de la muestra\n",
    "\n",
    "# $$S = \\sqrt{\\frac 1{n-1}\\sum_{i=1}^{n}(X_i-\\bar{X})^2} \\Longrightarrow S = \\sqrt{S^2}$$"
   ]
  },
  {
   "cell_type": "code",
   "execution_count": null,
   "metadata": {
    "id": "2di6iLFaSPda"
   },
   "outputs": [],
   "source": []
  },
  {
   "cell_type": "code",
   "execution_count": null,
   "metadata": {
    "id": "BMTx9yKHSPON"
   },
   "outputs": [],
   "source": []
  },
  {
   "cell_type": "code",
   "execution_count": null,
   "metadata": {
    "id": "_PeQtqbdjQNh"
   },
   "outputs": [],
   "source": []
  },
  {
   "cell_type": "code",
   "execution_count": null,
   "metadata": {
    "id": "5LYOKy25jQNi"
   },
   "outputs": [],
   "source": []
  },
  {
   "cell_type": "code",
   "execution_count": null,
   "metadata": {
    "id": "FfcyfSkFjQNj"
   },
   "outputs": [],
   "source": []
  },
  {
   "cell_type": "code",
   "execution_count": null,
   "metadata": {
    "id": "G8vorygCjQNk"
   },
   "outputs": [],
   "source": []
  },
  {
   "cell_type": "code",
   "execution_count": null,
   "metadata": {
    "id": "01op3BEvjQNl"
   },
   "outputs": [],
   "source": []
  }
 ],
 "metadata": {
  "colab": {
   "collapsed_sections": [
    "7mMXLTukjQK-",
    "d_LW5gMIjQK_",
    "ViJYvvjujQLu",
    "02ve2BVojQLv",
    "s9UGNaMzjQLy",
    "p268tvNHjQLy",
    "5eO-RhaljQL6",
    "Js9iLwNkjQME",
    "VzZEXDKX3PUH",
    "uIb17Es3jQMP",
    "Wrya4suEX7H-",
    "9geu3UcKjQMS",
    "e0IuYdJFjQMT",
    "hQHyjfLkjQMe",
    "nK27TxrkjQMl",
    "CmCu6BXQjQMo",
    "YwhBwz-JjQMr",
    "_-0gjQWFjQMu",
    "b7ZchyFsjQMu",
    "WazchssNjQM1",
    "eS4I2H7jjQM7",
    "f4XrApNxjQNE",
    "6gIeZO_CjQNJ",
    "D6xVxAQ7jQNO",
    "jSKfnKwEjQNW",
    "tHD3yNqzjQNW",
    "WrCn9hw0jQNX",
    "jV5mQT_djQNX",
    "wQl_CsytjQNg",
    "X9w1Iqt3jQNg",
    "D3J4MvMpjQNg"
   ],
   "include_colab_link": true,
   "provenance": []
  },
  "kernelspec": {
   "display_name": "Python [conda env:base] *",
   "language": "python",
   "name": "conda-base-py"
  },
  "language_info": {
   "codemirror_mode": {
    "name": "ipython",
    "version": 3
   },
   "file_extension": ".py",
   "mimetype": "text/x-python",
   "name": "python",
   "nbconvert_exporter": "python",
   "pygments_lexer": "ipython3",
   "version": "3.12.7"
  }
 },
 "nbformat": 4,
 "nbformat_minor": 4
}
